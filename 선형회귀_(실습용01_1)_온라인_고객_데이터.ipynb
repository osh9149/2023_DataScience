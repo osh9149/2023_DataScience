{
  "nbformat": 4,
  "nbformat_minor": 0,
  "metadata": {
    "colab": {
      "provenance": [],
      "include_colab_link": true
    },
    "kernelspec": {
      "name": "python3",
      "display_name": "Python 3"
    },
    "language_info": {
      "name": "python"
    }
  },
  "cells": [
    {
      "cell_type": "markdown",
      "metadata": {
        "id": "view-in-github",
        "colab_type": "text"
      },
      "source": [
        "<a href=\"https://colab.research.google.com/github/osh9149/2023_DataScience/blob/main/%EC%84%A0%ED%98%95%ED%9A%8C%EA%B7%80_(%EC%8B%A4%EC%8A%B5%EC%9A%A901_1)_%EC%98%A8%EB%9D%BC%EC%9D%B8_%EA%B3%A0%EA%B0%9D_%EB%8D%B0%EC%9D%B4%ED%84%B0.ipynb\" target=\"_parent\"><img src=\"https://colab.research.google.com/assets/colab-badge.svg\" alt=\"Open In Colab\"/></a>"
      ]
    },
    {
      "cell_type": "markdown",
      "metadata": {
        "id": "7fk9UKkYMxJW"
      },
      "source": [
        "# <1> 문제 정의 : 온라인 고객들의 소비액💸💸 예측하기\n",
        "\n"
      ]
    },
    {
      "cell_type": "markdown",
      "source": [
        "## 1-1. 파일 다운로드\n",
        "\n",
        "\n",
        "\n",
        "**온라인 쇼핑 소비자 500명 데이터**\n",
        "\n",
        "\n",
        "[온라인 쇼핑 소비자 데이터 출처](https://www.kaggle.com/srolka/ecommerce-customers)\n",
        "\n",
        "[데이터 내 영단어를 한글로 바꾼 데이터](https://drive.google.com/file/d/1b42x7W_GbypDoLoYSObNG-a5JVgoY5sR/view?usp=sharing)\n",
        "\n",
        "\n",
        "\n",
        "*   Email : 이메일\n",
        "*   Address : wnth\n",
        "* Avatar : 아바타\n",
        "* Avg.Session Length : 매장 내 스타일 조언 평균 시간\n",
        "* Time on App : 앱 사용 시간\n",
        "* Time on Website : 웹사이트 사용 시간\n",
        "* Lenth of Membership : 멤버십 기간\n",
        "* Yearly Amount Spent : 연간 소비 지출액\n"
      ],
      "metadata": {
        "id": "Fc6jHZmVl3qi"
      }
    },
    {
      "cell_type": "markdown",
      "metadata": {
        "id": "5eph2m8wBOcX"
      },
      "source": [
        "# <2> 데이터 수집 및 분석\n",
        "\n",
        "\n",
        "\n",
        "\n"
      ]
    },
    {
      "cell_type": "markdown",
      "source": [
        "### 2-0. 한글 폰트 설치 및 라이브러리 호출하기"
      ],
      "metadata": {
        "id": "4Oe-Y9Qq8TKJ"
      }
    },
    {
      "cell_type": "code",
      "execution_count": null,
      "metadata": {
        "id": "CkPqdspi8AXj"
      },
      "outputs": [],
      "source": [
        "# 단계 1: 한글 폰트 설정\n",
        "!sudo apt-get install -y fonts-nanum\n",
        "!sudo fc-cache -fv\n",
        "!rm ~/.cache/matplotlib -rf"
      ]
    },
    {
      "cell_type": "code",
      "source": [
        "# 단계 2: 런타임 재시작\n",
        "import os\n",
        "os.kill(os.getpid(), 9)"
      ],
      "metadata": {
        "id": "8hoSRpdp8-rY"
      },
      "execution_count": null,
      "outputs": []
    },
    {
      "cell_type": "code",
      "source": [
        "# 단계 3: 한글 폰트 설정\n",
        "import matplotlib.pyplot as plt\n",
        "import matplotlib as mpl\n",
        "import matplotlib.font_manager as fm\n",
        "\n",
        "# 마이너스 표시 문제\n",
        "mpl.rcParams['axes.unicode_minus'] = False\n",
        "\n",
        "# 한글 폰트 설정\n",
        "plt.rc('font', family='NanumBarunGothic')"
      ],
      "metadata": {
        "id": "TEYQAEm88qz-"
      },
      "execution_count": 1,
      "outputs": []
    },
    {
      "cell_type": "markdown",
      "source": [
        "### 2-1. 데이터 수집 및 업로드\n"
      ],
      "metadata": {
        "id": "i03-rm2WxI6O"
      }
    },
    {
      "cell_type": "code",
      "source": [
        "from google.colab import files\n",
        "uploaded = files.upload()"
      ],
      "metadata": {
        "id": "y6s2SnE8sGND"
      },
      "execution_count": null,
      "outputs": []
    },
    {
      "cell_type": "markdown",
      "source": [
        "\n",
        "```\n",
        "import pandas as pd\n",
        "\n",
        "data = pd.read_csv('--파일이름--', encoding='cp949')\n",
        "data.head()\n",
        "```\n"
      ],
      "metadata": {
        "id": "HmMemZYAEjxG"
      }
    },
    {
      "cell_type": "code",
      "metadata": {
        "id": "6ljO2imscYh2"
      },
      "source": [
        "\n",
        "\n",
        "\n"
      ],
      "execution_count": null,
      "outputs": []
    },
    {
      "cell_type": "markdown",
      "metadata": {
        "id": "BjNgB2aEV_YR"
      },
      "source": [
        "### 2-2. 데이터셋의 정보 요약 출력\n",
        "```\n",
        "데이터프레임.info()\n",
        "```"
      ]
    },
    {
      "cell_type": "code",
      "metadata": {
        "id": "p0wfqT3MAqWO"
      },
      "source": [],
      "execution_count": null,
      "outputs": []
    },
    {
      "cell_type": "markdown",
      "source": [
        "### 2-3. 속성 간 상관계수 확인하기\n",
        "\n",
        "```\n",
        "데이터프레임.corr()\n",
        "```"
      ],
      "metadata": {
        "id": "_IWX5YJoSa6X"
      }
    },
    {
      "cell_type": "code",
      "metadata": {
        "id": "T1_Hp1kwWG5M"
      },
      "source": [],
      "execution_count": null,
      "outputs": []
    },
    {
      "cell_type": "markdown",
      "metadata": {
        "id": "UBcPsT4ddXfj"
      },
      "source": [
        "### 2-4. 핵심속성 추출\n",
        "\n",
        "> 여기에 정리해봅시다.\n",
        "\n",
        "\n"
      ]
    },
    {
      "cell_type": "markdown",
      "metadata": {
        "id": "mmwT3z8vQL11"
      },
      "source": [
        "\n",
        "# 주제 1. 멤버십 기간으로 연간 소비액 예측하기\n",
        "\n",
        "\n",
        "<img src='https://github.com/teacher-jiejie/allinone_AI/blob/images/%EC%84%A0%ED%98%95%ED%9A%8C%EA%B7%80%20004.png?raw=true' width=700>\n"
      ]
    },
    {
      "cell_type": "markdown",
      "metadata": {
        "id": "K66sdqivBUna"
      },
      "source": [
        "### 2-5. 핵심속성과 레이블 분리\n",
        "```\n",
        "X=data[['멤버십 기간']]\n",
        "y=data['연간 소비액']\n",
        "```\n"
      ]
    },
    {
      "cell_type": "code",
      "metadata": {
        "id": "PIZU8pXS2YA1"
      },
      "source": [
        "# 머신러닝 알고리즘에 학습시킬 속성은 이차원 형태여야 함\n",
        "\n",
        "\n"
      ],
      "execution_count": 11,
      "outputs": []
    },
    {
      "cell_type": "code",
      "source": [
        "# 선형회귀 연산이 가능한 모델 만들어주기\n",
        "\n",
        "# 모델에 데이터를 넣고 학습시키기\n",
        "# 모델이름.fit(x축데이터, y축데이터)\n",
        "\n"
      ],
      "metadata": {
        "colab": {
          "base_uri": "https://localhost:8080/",
          "height": 75
        },
        "id": "vfF0lSc8S3Nx",
        "outputId": "82ff61d0-8096-4013-b427-e1146aac12e5"
      },
      "execution_count": 12,
      "outputs": [
        {
          "output_type": "execute_result",
          "data": {
            "text/plain": [
              "LinearRegression()"
            ],
            "text/html": [
              "<style>#sk-container-id-1 {color: black;background-color: white;}#sk-container-id-1 pre{padding: 0;}#sk-container-id-1 div.sk-toggleable {background-color: white;}#sk-container-id-1 label.sk-toggleable__label {cursor: pointer;display: block;width: 100%;margin-bottom: 0;padding: 0.3em;box-sizing: border-box;text-align: center;}#sk-container-id-1 label.sk-toggleable__label-arrow:before {content: \"▸\";float: left;margin-right: 0.25em;color: #696969;}#sk-container-id-1 label.sk-toggleable__label-arrow:hover:before {color: black;}#sk-container-id-1 div.sk-estimator:hover label.sk-toggleable__label-arrow:before {color: black;}#sk-container-id-1 div.sk-toggleable__content {max-height: 0;max-width: 0;overflow: hidden;text-align: left;background-color: #f0f8ff;}#sk-container-id-1 div.sk-toggleable__content pre {margin: 0.2em;color: black;border-radius: 0.25em;background-color: #f0f8ff;}#sk-container-id-1 input.sk-toggleable__control:checked~div.sk-toggleable__content {max-height: 200px;max-width: 100%;overflow: auto;}#sk-container-id-1 input.sk-toggleable__control:checked~label.sk-toggleable__label-arrow:before {content: \"▾\";}#sk-container-id-1 div.sk-estimator input.sk-toggleable__control:checked~label.sk-toggleable__label {background-color: #d4ebff;}#sk-container-id-1 div.sk-label input.sk-toggleable__control:checked~label.sk-toggleable__label {background-color: #d4ebff;}#sk-container-id-1 input.sk-hidden--visually {border: 0;clip: rect(1px 1px 1px 1px);clip: rect(1px, 1px, 1px, 1px);height: 1px;margin: -1px;overflow: hidden;padding: 0;position: absolute;width: 1px;}#sk-container-id-1 div.sk-estimator {font-family: monospace;background-color: #f0f8ff;border: 1px dotted black;border-radius: 0.25em;box-sizing: border-box;margin-bottom: 0.5em;}#sk-container-id-1 div.sk-estimator:hover {background-color: #d4ebff;}#sk-container-id-1 div.sk-parallel-item::after {content: \"\";width: 100%;border-bottom: 1px solid gray;flex-grow: 1;}#sk-container-id-1 div.sk-label:hover label.sk-toggleable__label {background-color: #d4ebff;}#sk-container-id-1 div.sk-serial::before {content: \"\";position: absolute;border-left: 1px solid gray;box-sizing: border-box;top: 0;bottom: 0;left: 50%;z-index: 0;}#sk-container-id-1 div.sk-serial {display: flex;flex-direction: column;align-items: center;background-color: white;padding-right: 0.2em;padding-left: 0.2em;position: relative;}#sk-container-id-1 div.sk-item {position: relative;z-index: 1;}#sk-container-id-1 div.sk-parallel {display: flex;align-items: stretch;justify-content: center;background-color: white;position: relative;}#sk-container-id-1 div.sk-item::before, #sk-container-id-1 div.sk-parallel-item::before {content: \"\";position: absolute;border-left: 1px solid gray;box-sizing: border-box;top: 0;bottom: 0;left: 50%;z-index: -1;}#sk-container-id-1 div.sk-parallel-item {display: flex;flex-direction: column;z-index: 1;position: relative;background-color: white;}#sk-container-id-1 div.sk-parallel-item:first-child::after {align-self: flex-end;width: 50%;}#sk-container-id-1 div.sk-parallel-item:last-child::after {align-self: flex-start;width: 50%;}#sk-container-id-1 div.sk-parallel-item:only-child::after {width: 0;}#sk-container-id-1 div.sk-dashed-wrapped {border: 1px dashed gray;margin: 0 0.4em 0.5em 0.4em;box-sizing: border-box;padding-bottom: 0.4em;background-color: white;}#sk-container-id-1 div.sk-label label {font-family: monospace;font-weight: bold;display: inline-block;line-height: 1.2em;}#sk-container-id-1 div.sk-label-container {text-align: center;}#sk-container-id-1 div.sk-container {/* jupyter's `normalize.less` sets `[hidden] { display: none; }` but bootstrap.min.css set `[hidden] { display: none !important; }` so we also need the `!important` here to be able to override the default hidden behavior on the sphinx rendered scikit-learn.org. See: https://github.com/scikit-learn/scikit-learn/issues/21755 */display: inline-block !important;position: relative;}#sk-container-id-1 div.sk-text-repr-fallback {display: none;}</style><div id=\"sk-container-id-1\" class=\"sk-top-container\"><div class=\"sk-text-repr-fallback\"><pre>LinearRegression()</pre><b>In a Jupyter environment, please rerun this cell to show the HTML representation or trust the notebook. <br />On GitHub, the HTML representation is unable to render, please try loading this page with nbviewer.org.</b></div><div class=\"sk-container\" hidden><div class=\"sk-item\"><div class=\"sk-estimator sk-toggleable\"><input class=\"sk-toggleable__control sk-hidden--visually\" id=\"sk-estimator-id-1\" type=\"checkbox\" checked><label for=\"sk-estimator-id-1\" class=\"sk-toggleable__label sk-toggleable__label-arrow\">LinearRegression</label><div class=\"sk-toggleable__content\"><pre>LinearRegression()</pre></div></div></div></div></div>"
            ]
          },
          "metadata": {},
          "execution_count": 12
        }
      ]
    },
    {
      "cell_type": "code",
      "source": [
        "# 추세선 정보 확인하기(w, b 출력)-가중치, 바이어스 출력하기\n",
        "\n",
        "\n"
      ],
      "metadata": {
        "id": "8V37EwQBS3RK"
      },
      "execution_count": null,
      "outputs": []
    },
    {
      "cell_type": "code",
      "source": [
        "#그래프로 출력하기\n",
        "\n"
      ],
      "metadata": {
        "id": "LgruQjRmS3UM"
      },
      "execution_count": null,
      "outputs": []
    },
    {
      "cell_type": "code",
      "source": [
        "#멤버십 기간으로 매출액 에측하기\n",
        "\n"
      ],
      "metadata": {
        "id": "YyVRKbGKS3XW"
      },
      "execution_count": null,
      "outputs": []
    },
    {
      "cell_type": "markdown",
      "source": [
        "# 주제 2. 두 속성을 한 번에 예측에 활용하면 어떨까?\n",
        "\n",
        "\n",
        "<img src='https://github.com/teacher-jiejie/allinone_AI/blob/images/%EC%84%A0%ED%98%95%ED%9A%8C%EA%B7%80%20005.png?raw=true' width=700>"
      ],
      "metadata": {
        "id": "IL3N-boQUWpZ"
      }
    },
    {
      "cell_type": "markdown",
      "source": [
        "```\n",
        "X=data[['멤버십 기간', '앱 사용시간']]\n",
        "y=data['연간 소비액']\n",
        "```"
      ],
      "metadata": {
        "id": "pGFfSdUBU4FB"
      }
    },
    {
      "cell_type": "code",
      "source": [
        "# 핵심속성과 레이블 분리\n",
        "\n",
        "\n"
      ],
      "metadata": {
        "id": "U4o-dEE6Uojo"
      },
      "execution_count": null,
      "outputs": []
    },
    {
      "cell_type": "code",
      "source": [
        "# 선형회귀 모델 생성하고 학습시키기\n",
        "\n",
        "\n"
      ],
      "metadata": {
        "id": "fTLeiD1dUomd"
      },
      "execution_count": null,
      "outputs": []
    },
    {
      "cell_type": "code",
      "source": [
        "# 추세선 정보 확인하기(w, b 출력)\n",
        "\n",
        "\n"
      ],
      "metadata": {
        "id": "TXM-73IdUoqK"
      },
      "execution_count": null,
      "outputs": []
    },
    {
      "cell_type": "markdown",
      "source": [
        "# 주제 3. 속성 세 개를 예측에 활용하면 성능이 높아질까?"
      ],
      "metadata": {
        "id": "chVWW8zQVOvY"
      }
    },
    {
      "cell_type": "markdown",
      "source": [
        "```\n",
        "\n",
        "X=data[['멤버십 기간', '앱 사용시간', '매장내 조언 평균시간']]\n",
        "y=data['연간 소비액']\n",
        "```"
      ],
      "metadata": {
        "id": "-Vy8GL-xVTQB"
      }
    },
    {
      "cell_type": "code",
      "source": [
        "# 핵심속성과 레이블 분리\n",
        "\n"
      ],
      "metadata": {
        "id": "EKqDwCLmUosR"
      },
      "execution_count": null,
      "outputs": []
    },
    {
      "cell_type": "code",
      "source": [
        "# 선형회귀 모델 생성하고 학습시키기\n",
        "\n",
        "\n"
      ],
      "metadata": {
        "id": "T3LB9r-nUouz"
      },
      "execution_count": null,
      "outputs": []
    },
    {
      "cell_type": "code",
      "source": [],
      "metadata": {
        "id": "ocTgekkmUo0V"
      },
      "execution_count": null,
      "outputs": []
    },
    {
      "cell_type": "code",
      "source": [],
      "metadata": {
        "id": "orhYV7A2Uo3j"
      },
      "execution_count": null,
      "outputs": []
    }
  ]
}