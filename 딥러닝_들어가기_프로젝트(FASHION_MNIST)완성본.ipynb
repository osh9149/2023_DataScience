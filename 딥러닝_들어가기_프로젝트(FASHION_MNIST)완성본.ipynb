{
  "nbformat": 4,
  "nbformat_minor": 0,
  "metadata": {
    "colab": {
      "provenance": [],
      "include_colab_link": true
    },
    "kernelspec": {
      "name": "python3",
      "display_name": "Python 3"
    },
    "accelerator": "GPU"
  },
  "cells": [
    {
      "cell_type": "markdown",
      "metadata": {
        "id": "view-in-github",
        "colab_type": "text"
      },
      "source": [
        "<a href=\"https://colab.research.google.com/github/osh9149/2023_DataScience/blob/main/%EB%94%A5%EB%9F%AC%EB%8B%9D_%EB%93%A4%EC%96%B4%EA%B0%80%EA%B8%B0_%ED%94%84%EB%A1%9C%EC%A0%9D%ED%8A%B8(FASHION_MNIST)%EC%99%84%EC%84%B1%EB%B3%B8.ipynb\" target=\"_parent\"><img src=\"https://colab.research.google.com/assets/colab-badge.svg\" alt=\"Open In Colab\"/></a>"
      ]
    },
    {
      "cell_type": "markdown",
      "metadata": {
        "id": "gGk-DLz7Qs4H"
      },
      "source": [
        "## 0. 문제 해결 과정\n",
        "#### 문제 정의 -> 데이터 전처리 -> 모델 학습 -> 성능 평가 -> 일반화 및 공유\n",
        "\n",
        "## 1. 문제 정의\n",
        "### 1-1. 이미지 인식\n",
        "\n",
        "컴퓨터는 이미지 데이터를 픽셀(pixel)들의 모음으로 이해한다. 픽셀은 이미지를 구성하는 최소 단위로 0~255의 값으로 표현된다. 위의 흑백 이미지는 너비 12개, 높이 16개, 총 12 X 16 (192)개의 픽셀로 이루어져있다. 각 픽셀은 0(검정색) ~ 255(흰색)의 값으로 표현되어있는 것을 볼 수 있다. 즉, 컴퓨터는 이미지를 숫자로 받아들이며, 이 숫자를 이용하여 연산을 수행할 수 있다.\n",
        "\n",
        "<img src=\"https://habrastorage.org/webt/56/h5/g6/56h5g6loe_bu4_oiuu0-vy_unoc.png\" width=500px>\n",
        "\n",
        "<img src=\"https://habrastorage.org/webt/nn/2r/q6/nn2rq6itb9gz5suamhcl5kvjwtu.png\" width=500px>\n",
        "\n",
        "\n",
        "이렇게 일반적으로 이미지 데이터는 3차원으로 이루어져있으며, 각 차원을 너비, 높이, 채널(channel)이라고 부른다. 흑백 이미지 데이터는 흑백 표현을 위한 1개의 채널을, 컬러 이미지 데이터는 빨강, 초록, 파랑 표현을 위한 3개의 채널을 지닌다.\n",
        "\n",
        "<img src=\"https://ai.stanford.edu/~syyeung/cvweb/Pictures1/imagematrix.png\">\n",
        "\n",
        "### 1-2. MNIST 손글씨 인식하기\n",
        "- 0 ~ 9 손글씨 숫자 데이터 각 6000개, 총 60000개의 28 * 28 크기 데이터\n",
        "- 학습 데이터 60000개, 테스트 데이터 10000개로 구성\n",
        "\n",
        "\n",
        "<img src=\"https://learnmachinelearning.files.wordpress.com/2017/08/mnist.png?w=638\" height=\"150px\">"
      ]
    },
    {
      "cell_type": "markdown",
      "metadata": {
        "id": "Ht1MT8xWQ94u"
      },
      "source": [
        "## 2. 데이터 수집\n",
        "### 2-1. 데이터 로드하기"
      ]
    },
    {
      "cell_type": "code",
      "metadata": {
        "id": "vm6PDFzBPJOk"
      },
      "source": [
        "# 필요한 라이브러리 호출\n",
        "import numpy as np\n",
        "from tensorflow import keras\n",
        "import matplotlib.pyplot as plt\n",
        "%matplotlib inline"
      ],
      "execution_count": null,
      "outputs": []
    },
    {
      "cell_type": "code",
      "metadata": {
        "id": "RdRagsnsPvc7",
        "outputId": "c41b98af-5038-4f7a-ef69-d329b80abd26",
        "colab": {
          "base_uri": "https://localhost:8080/"
        }
      },
      "source": [
        "# MNIST 데이터셋 로드\n",
        "from keras.datasets import fashion_mnist\n",
        "\n",
        "# X_train: 학습 데이터   y_train: 학습 레이블(정답)\n",
        "# X_test: 테스트 데이터  y_test: 테스트 레이블(정답)\n",
        "(X_train, y_train), (X_test, y_test) = fashion_mnist.load_data()"
      ],
      "execution_count": null,
      "outputs": [
        {
          "output_type": "stream",
          "text": [
            "Downloading data from https://storage.googleapis.com/tensorflow/tf-keras-datasets/train-labels-idx1-ubyte.gz\n",
            "32768/29515 [=================================] - 0s 0us/step\n",
            "Downloading data from https://storage.googleapis.com/tensorflow/tf-keras-datasets/train-images-idx3-ubyte.gz\n",
            "26427392/26421880 [==============================] - 0s 0us/step\n",
            "Downloading data from https://storage.googleapis.com/tensorflow/tf-keras-datasets/t10k-labels-idx1-ubyte.gz\n",
            "8192/5148 [===============================================] - 0s 0us/step\n",
            "Downloading data from https://storage.googleapis.com/tensorflow/tf-keras-datasets/t10k-images-idx3-ubyte.gz\n",
            "4423680/4422102 [==============================] - 0s 0us/step\n"
          ],
          "name": "stdout"
        }
      ]
    },
    {
      "cell_type": "code",
      "metadata": {
        "id": "0ktuomc4QOd_",
        "outputId": "51a65bc2-748b-4481-d765-36c35ddd3a48",
        "colab": {
          "base_uri": "https://localhost:8080/"
        }
      },
      "source": [
        "# 학습 데이터 눈으로 확인해보기\n",
        "X_train[234]"
      ],
      "execution_count": null,
      "outputs": [
        {
          "output_type": "execute_result",
          "data": {
            "text/plain": [
              "array([[  0,   0,   0,   0,   0,   1,   1,   0,   0,   0, 136, 173, 165,\n",
              "        157, 158, 175, 207, 220, 220,   0,   0,   0,   0,   3,   0,   0,\n",
              "          0,   0],\n",
              "       [  0,   0,   0,   0,   0,   1,   0,   0,  78, 217, 208, 218, 230,\n",
              "        232, 245, 255, 245, 233, 210, 218,  92,   0,   0,   0,   1,   0,\n",
              "          0,   0],\n",
              "       [  0,   0,   0,   0,   0,   0,  50, 187, 211, 201, 196, 203, 178,\n",
              "        152, 164, 211, 199, 197, 181, 192, 215, 194, 133,   0,   0,   2,\n",
              "          0,   0],\n",
              "       [  0,   0,   0,   0,   0,  75, 193, 186, 193, 189, 195, 190, 213,\n",
              "        213, 198, 194, 186, 172, 164, 197, 193, 198, 214, 151,   0,   0,\n",
              "          0,   0],\n",
              "       [  0,   0,   0,   0,   0, 189, 198, 177, 195, 204, 200, 201, 181,\n",
              "        184, 199, 195, 197, 184, 190, 209, 198, 200, 196, 212,  85,   0,\n",
              "          0,   0],\n",
              "       [  0,   0,   0,   0,  58, 208, 204, 192, 199, 202, 183, 198, 203,\n",
              "        205, 210, 198, 197, 199, 202, 186, 196, 214, 187, 184, 117,   0,\n",
              "          0,   0],\n",
              "       [  0,   0,   0,   0, 141, 208, 207, 193, 202, 205, 174, 155, 177,\n",
              "        173, 185, 200, 197, 199, 205, 173, 157, 174, 179, 181, 159,   0,\n",
              "          0,   0],\n",
              "       [  0,   0,   0,   0, 196, 187, 213, 190, 188, 192, 199, 183, 156,\n",
              "        168, 181, 182, 195, 190, 184, 201, 171, 157, 194, 198, 184,   0,\n",
              "          0,   0],\n",
              "       [  0,   0,   0,   0, 214, 198, 217, 203, 175, 179, 197, 204, 194,\n",
              "        206, 210, 202, 200, 185, 166, 198, 195, 186, 192, 195, 202,   0,\n",
              "          0,   0],\n",
              "       [  0,   0,   0,   0, 205, 188, 219, 207, 197, 210, 194, 195, 202,\n",
              "        193, 158, 164, 190, 196, 206, 186, 189, 192, 197, 192, 215,   0,\n",
              "          0,   0],\n",
              "       [  0,   0,   0,  16, 206, 174, 209, 193, 151, 177, 195, 202, 200,\n",
              "        195, 198, 158, 150, 148, 163, 190, 199, 196, 194, 191, 198,   0,\n",
              "          0,   0],\n",
              "       [  0,   0,   0,  35, 234, 196, 227, 191, 161, 187, 188, 178, 182,\n",
              "        195, 189, 194, 167, 172, 185, 183, 182, 188, 206, 195, 228,  11,\n",
              "          0,   0],\n",
              "       [  0,   0,   0,  52, 228, 174, 195, 211, 192, 205, 202, 188, 193,\n",
              "        200, 192, 201, 192, 200, 193, 204, 178, 172, 171, 175, 208,  34,\n",
              "          0,   0],\n",
              "       [  0,   0,   0,  62, 233, 186, 178, 207, 196, 162, 157, 188, 189,\n",
              "        198, 198, 189, 191, 191, 148, 158, 192, 200, 184, 147, 185,  52,\n",
              "          0,   0],\n",
              "       [  0,   0,   0,  68, 213, 193, 212, 213, 191, 202, 170, 147, 155,\n",
              "        166, 185, 196, 191, 198, 191, 153, 133, 167, 218, 190, 224,  72,\n",
              "          0,   0],\n",
              "       [  0,   0,   0,  87, 228, 191, 217, 215, 153, 198, 200, 183, 195,\n",
              "        212, 200, 201, 179, 163, 197, 195, 161, 200, 208, 192, 220,  78,\n",
              "          0,   0],\n",
              "       [  0,   0,   0,  85, 212, 189, 213, 223, 196, 202, 189, 195, 197,\n",
              "        172, 178, 207, 200, 196, 190, 192, 190, 183, 209, 193, 224,  92,\n",
              "          0,   0],\n",
              "       [  0,   0,   0,  78, 203, 165, 202, 207, 166, 199, 198, 196, 195,\n",
              "        179, 158, 161, 173, 182, 193, 191, 189, 187, 207, 191, 195, 106,\n",
              "          0,   0],\n",
              "       [  0,   0,   0,  90, 238, 203, 211, 203, 163, 183, 186, 184, 191,\n",
              "        198, 180, 165, 157, 171, 177, 186, 182, 183, 213, 201, 200, 115,\n",
              "          0,   0],\n",
              "       [  0,   0,   0,  92, 219, 154, 194, 225, 203, 212, 186, 179, 200,\n",
              "        186, 202, 194, 196, 208, 207, 178, 176, 184, 177, 182, 210, 129,\n",
              "          0,   0],\n",
              "       [  0,   0,   0, 107, 232, 172, 155, 216, 185, 161, 196, 204, 204,\n",
              "        198, 191, 190, 202, 164, 156, 201, 198, 205, 185, 144, 172, 125,\n",
              "          0,   0],\n",
              "       [  0,   0,   0, 100, 217, 198, 186, 221, 204, 180, 153, 155, 169,\n",
              "        189, 198, 194, 199, 197, 164, 148, 150, 192, 219, 177, 218, 143,\n",
              "          0,   0],\n",
              "       [  0,   0,   0, 112, 221, 194, 197, 224, 188, 204, 180, 179, 200,\n",
              "        198, 197, 191, 164, 201, 194, 180, 178, 201, 212, 197, 198, 114,\n",
              "          0,   0],\n",
              "       [  0,   0,   0, 112, 226, 195, 203, 227, 196, 199, 199, 201, 197,\n",
              "        184, 198, 197, 190, 198, 194, 199, 188, 209, 215, 189, 203, 124,\n",
              "          0,   0],\n",
              "       [  0,   0,   0, 140, 196, 189, 196, 197, 201, 197, 193, 196, 193,\n",
              "        190, 202, 200, 203, 201, 190, 194, 183, 202, 216, 196, 216, 137,\n",
              "          0,   0],\n",
              "       [  0,   0,   0,  89, 229, 195, 188, 203, 214, 194, 193, 191, 194,\n",
              "        196, 195, 194, 194, 195, 193, 193, 191, 216, 207, 192, 219,  88,\n",
              "          0,   0],\n",
              "       [  0,   0,   0,  45, 207, 198, 208,  91, 244, 242, 208, 208, 239,\n",
              "        239, 236, 237, 240, 210, 209, 241, 233, 153, 210, 197, 205,  85,\n",
              "          0,   0],\n",
              "       [  0,   0,   0,  22, 191, 200, 212,   0,   0,  24,  47,  54,  65,\n",
              "         74,  73,  65,  60,  64,  59,  56,   0,   0, 175, 184, 207,  51,\n",
              "          0,   0]], dtype=uint8)"
            ]
          },
          "metadata": {
            "tags": []
          },
          "execution_count": 3
        }
      ]
    },
    {
      "cell_type": "code",
      "metadata": {
        "id": "ixrNCVE3QEy5",
        "outputId": "fe9676c8-a540-4631-e2ea-b4f1f17d88a9",
        "colab": {
          "base_uri": "https://localhost:8080/",
          "height": 282
        }
      },
      "source": [
        "# 학습 데이터 이미지로 출력해보기\n",
        "plt.imshow(X_train[234], cmap='gray')"
      ],
      "execution_count": null,
      "outputs": [
        {
          "output_type": "execute_result",
          "data": {
            "text/plain": [
              "<matplotlib.image.AxesImage at 0x7fd17668b748>"
            ]
          },
          "metadata": {
            "tags": []
          },
          "execution_count": 4
        },
        {
          "output_type": "display_data",
          "data": {
            "image/png": "[encoded data removed]",
            "text/plain": [
              "<Figure size 432x288 with 1 Axes>"
            ]
          },
          "metadata": {
            "tags": [],
            "needs_background": "light"
          }
        }
      ]
    },
    {
      "cell_type": "code",
      "metadata": {
        "id": "AD94waR1QVGo",
        "outputId": "3dd0cf99-d4c6-4586-f7b8-d1521fb3970b",
        "colab": {
          "base_uri": "https://localhost:8080/"
        }
      },
      "source": [
        "# 학습 데이터 레이블 확인하기\n",
        "y_train[234]"
      ],
      "execution_count": null,
      "outputs": [
        {
          "output_type": "execute_result",
          "data": {
            "text/plain": [
              "2"
            ]
          },
          "metadata": {
            "tags": []
          },
          "execution_count": 5
        }
      ]
    },
    {
      "cell_type": "markdown",
      "metadata": {
        "id": "9n9CVS1ZB314"
      },
      "source": [
        "### 2-2. 우리는 처음이니깐^^ 이미지 데이터 주물러보기\n"
      ]
    },
    {
      "cell_type": "code",
      "metadata": {
        "id": "SuKJ09ZAD8JW",
        "outputId": "e00fc2e5-bc67-4dd7-a1ac-3972735a4212",
        "colab": {
          "base_uri": "https://localhost:8080/",
          "height": 282
        }
      },
      "source": [
        "# 이미지 주무르기\n",
        "arr = X_train[234].copy()\n",
        "plt.imshow(arr, cmap='gray')"
      ],
      "execution_count": null,
      "outputs": [
        {
          "output_type": "execute_result",
          "data": {
            "text/plain": [
              "<matplotlib.image.AxesImage at 0x7fd17418eeb8>"
            ]
          },
          "metadata": {
            "tags": []
          },
          "execution_count": 6
        },
        {
          "output_type": "display_data",
          "data": {
            "image/png": "[encoded data removed]",
            "text/plain": [
              "<Figure size 432x288 with 1 Axes>"
            ]
          },
          "metadata": {
            "tags": [],
            "needs_background": "light"
          }
        }
      ]
    },
    {
      "cell_type": "code",
      "metadata": {
        "id": "YL2wlEDcL2il",
        "outputId": "63f33450-64f1-4ace-aa02-264b6e5ac400",
        "colab": {
          "base_uri": "https://localhost:8080/",
          "height": 282
        }
      },
      "source": [
        "# 1을 7로 만들기\n",
        "arr[9:10, 10:17] = 255\n",
        "plt.imshow(arr, cmap='gray')"
      ],
      "execution_count": null,
      "outputs": [
        {
          "output_type": "execute_result",
          "data": {
            "text/plain": [
              "<matplotlib.image.AxesImage at 0x7fd13fb10908>"
            ]
          },
          "metadata": {
            "tags": []
          },
          "execution_count": 7
        },
        {
          "output_type": "display_data",
          "data": {
            "image/png": "[encoded data removed]",
            "text/plain": [
              "<Figure size 432x288 with 1 Axes>"
            ]
          },
          "metadata": {
            "tags": [],
            "needs_background": "light"
          }
        }
      ]
    },
    {
      "cell_type": "code",
      "metadata": {
        "id": "IGw45qtgMRyX",
        "outputId": "c0b2bfdb-08ee-41b6-db1b-df5e364a3e19",
        "colab": {
          "base_uri": "https://localhost:8080/",
          "height": 282
        }
      },
      "source": [
        "# 7을 2로 만들기\n",
        "arr[22:24, 9:21] = 255\n",
        "plt.imshow(arr, cmap='gray')"
      ],
      "execution_count": null,
      "outputs": [
        {
          "output_type": "execute_result",
          "data": {
            "text/plain": [
              "<matplotlib.image.AxesImage at 0x7fd13fa8a438>"
            ]
          },
          "metadata": {
            "tags": []
          },
          "execution_count": 8
        },
        {
          "output_type": "display_data",
          "data": {
            "image/png": "[encoded data removed]",
            "text/plain": [
              "<Figure size 432x288 with 1 Axes>"
            ]
          },
          "metadata": {
            "tags": [],
            "needs_background": "light"
          }
        }
      ]
    },
    {
      "cell_type": "code",
      "metadata": {
        "id": "L3zEGOG9LIhc",
        "outputId": "31c23a0f-1938-4a61-a266-009f8ce30b39",
        "colab": {
          "base_uri": "https://localhost:8080/",
          "height": 282
        }
      },
      "source": [
        "plt.imshow(X_train[1], cmap='gray')"
      ],
      "execution_count": null,
      "outputs": [
        {
          "output_type": "execute_result",
          "data": {
            "text/plain": [
              "<matplotlib.image.AxesImage at 0x7fd1766974a8>"
            ]
          },
          "metadata": {
            "tags": []
          },
          "execution_count": 9
        },
        {
          "output_type": "display_data",
          "data": {
            "image/png": "[encoded data removed]",
            "text/plain": [
              "<Figure size 432x288 with 1 Axes>"
            ]
          },
          "metadata": {
            "tags": [],
            "needs_background": "light"
          }
        }
      ]
    },
    {
      "cell_type": "markdown",
      "metadata": {
        "id": "AQvIGbYxDybv"
      },
      "source": [
        "## 3. 데이터 전처리를 하지 않은 모델 만들기"
      ]
    },
    {
      "cell_type": "markdown",
      "metadata": {
        "id": "a7Q1KNjvClbB"
      },
      "source": [
        "#### * 원핫인코딩(one-hot encoding)\n",
        "<img src=\"https://encrypted-tbn0.gstatic.com/images?q=tbn%3AANd9GcTvLSynURni0v1cF_weoBFSKkC94cGrOH8yPblJkIP68QjiaN-4\" width=200px>\n",
        "\n",
        "원-핫 인코딩은 단어 집합의 크기를 벡터의 차원으로 하고, 표현하고 싶은 단어의 인덱스에 1의 값을 부여하고, 다른 인덱스에는 0을 부여하는 단어의 벡터 표현 방식이다."
      ]
    },
    {
      "cell_type": "code",
      "metadata": {
        "id": "1p093P_BCe53"
      },
      "source": [
        "from keras.utils import to_categorical\n",
        "\n",
        "# 레이블 0 ~ 9를 원핫인코딩\n",
        "y_train = to_categorical(y_train)\n",
        "y_test = to_categorical(y_test)"
      ],
      "execution_count": null,
      "outputs": []
    },
    {
      "cell_type": "code",
      "metadata": {
        "id": "SRIVemkKR2iJ",
        "outputId": "e04286e3-3173-4fdc-a814-ab4ee53efac1",
        "colab": {
          "base_uri": "https://localhost:8080/"
        }
      },
      "source": [
        "y_train[234]"
      ],
      "execution_count": null,
      "outputs": [
        {
          "output_type": "execute_result",
          "data": {
            "text/plain": [
              "array([0., 0., 1., 0., 0., 0., 0., 0., 0., 0.], dtype=float32)"
            ]
          },
          "metadata": {
            "tags": []
          },
          "execution_count": 11
        }
      ]
    },
    {
      "cell_type": "code",
      "metadata": {
        "id": "FRSnWYBP9rPA"
      },
      "source": [
        "# 자주 사용되는 값을 변수로 지정\n",
        "num_classes = 10 # 구분할 클래스의 개수\n",
        "num_pixels = 28*28 #이미지 데이터의 크기"
      ],
      "execution_count": null,
      "outputs": []
    },
    {
      "cell_type": "markdown",
      "metadata": {
        "id": "LnghAkd4ESxF"
      },
      "source": [
        "### 3-1. 모델 구성"
      ]
    },
    {
      "cell_type": "code",
      "metadata": {
        "id": "13FGsiL_CKEi"
      },
      "source": [
        "from keras.models import Sequential\n",
        "from keras.layers import Flatten, Dense\n",
        "\n",
        "# 모델 구성\n",
        "model1 = Sequential()\n",
        "model1.add(Flatten()) # 은닉층1 : 2차원->1차원\n",
        "model1.add(Dense(num_pixels, input_dim=num_pixels, activation='relu')) # 은닉층2\n",
        "model1.add(Dense(num_classes, activation='softmax'))\n",
        "\n",
        "# 모델 컴파일\n",
        "model1.compile(loss='categorical_crossentropy', optimizer='adam', metrics=['accuracy'])"
      ],
      "execution_count": null,
      "outputs": []
    },
    {
      "cell_type": "code",
      "metadata": {
        "id": "a1gv6ahX-SE9",
        "outputId": "7b9e1588-6d86-4fc2-e487-27d491f047df",
        "colab": {
          "base_uri": "https://localhost:8080/"
        }
      },
      "source": [
        "# 모델 학습\n",
        "history1 = model1.fit(X_train, y_train, validation_data=(X_test, y_test), epochs=10, batch_size=200, verbose=2)"
      ],
      "execution_count": null,
      "outputs": [
        {
          "output_type": "stream",
          "text": [
            "Epoch 1/10\n",
            "300/300 - 1s - loss: 12.7970 - accuracy: 0.7709 - val_loss: 3.3420 - val_accuracy: 0.7939\n",
            "Epoch 2/10\n",
            "300/300 - 1s - loss: 1.6737 - accuracy: 0.8176 - val_loss: 1.2351 - val_accuracy: 0.8118\n",
            "Epoch 3/10\n",
            "300/300 - 1s - loss: 0.7016 - accuracy: 0.8319 - val_loss: 0.6667 - val_accuracy: 0.8245\n",
            "Epoch 4/10\n",
            "300/300 - 1s - loss: 0.4438 - accuracy: 0.8541 - val_loss: 0.5914 - val_accuracy: 0.8320\n",
            "Epoch 5/10\n",
            "300/300 - 1s - loss: 0.3705 - accuracy: 0.8682 - val_loss: 0.5254 - val_accuracy: 0.8472\n",
            "Epoch 6/10\n",
            "300/300 - 1s - loss: 0.3386 - accuracy: 0.8774 - val_loss: 0.5219 - val_accuracy: 0.8516\n",
            "Epoch 7/10\n",
            "300/300 - 1s - loss: 0.3222 - accuracy: 0.8820 - val_loss: 0.5344 - val_accuracy: 0.8421\n",
            "Epoch 8/10\n",
            "300/300 - 1s - loss: 0.3145 - accuracy: 0.8853 - val_loss: 0.5330 - val_accuracy: 0.8525\n",
            "Epoch 9/10\n",
            "300/300 - 1s - loss: 0.3100 - accuracy: 0.8860 - val_loss: 0.4969 - val_accuracy: 0.8572\n",
            "Epoch 10/10\n",
            "300/300 - 1s - loss: 0.3076 - accuracy: 0.8887 - val_loss: 0.5161 - val_accuracy: 0.8564\n"
          ],
          "name": "stdout"
        }
      ]
    },
    {
      "cell_type": "markdown",
      "metadata": {
        "id": "sprQdv-0EFYE"
      },
      "source": [
        "### 3-2. 모델 학습 모니터링"
      ]
    },
    {
      "cell_type": "markdown",
      "metadata": {
        "id": "X9eMB0k5Eekp"
      },
      "source": [
        "### 3-3. 모델 예측 및 평가"
      ]
    },
    {
      "cell_type": "code",
      "metadata": {
        "id": "d0VdX5HbDaWa"
      },
      "source": [
        "def loss_graph(history):\n",
        "  # 손실값 그래프 그리기\n",
        "  plt.figure(figsize=[8,6])\n",
        "  plt.plot(history.history['loss'],'r',linewidth=3.0)\n",
        "  plt.plot(history.history['val_loss'],'b',linewidth=3.0)\n",
        "  plt.legend(['Training loss', 'Validation Loss'],fontsize=18)\n",
        "  plt.xlabel('Epochs ',fontsize=16)\n",
        "  plt.ylabel('Loss',fontsize=16)\n",
        "  plt.title('Loss Curves',fontsize=16)"
      ],
      "execution_count": null,
      "outputs": []
    },
    {
      "cell_type": "code",
      "metadata": {
        "id": "UM_TqecmDaWg",
        "outputId": "776ddcdb-44e0-4613-c3ff-f0599d919d87",
        "colab": {
          "base_uri": "https://localhost:8080/",
          "height": 411
        }
      },
      "source": [
        "# 손실값 그래프 그리기\n",
        "loss_graph(history1)"
      ],
      "execution_count": null,
      "outputs": [
        {
          "output_type": "display_data",
          "data": {
            "image/png": "[encoded data removed]",
            "text/plain": [
              "<Figure size 576x432 with 1 Axes>"
            ]
          },
          "metadata": {
            "tags": [],
            "needs_background": "light"
          }
        }
      ]
    },
    {
      "cell_type": "code",
      "metadata": {
        "id": "r2nrHT3iYSTp"
      },
      "source": [
        "# 테스트 데이터로 모델 평가하기위한 함수\n",
        "def evaluate_model(model):\n",
        "  scores = model.evaluate(X_test, y_test, verbose=0)\n",
        "  print(\"모델 에러율 : %.2f%%\" % (100-scores[1]*100))"
      ],
      "execution_count": null,
      "outputs": []
    },
    {
      "cell_type": "code",
      "metadata": {
        "id": "JXiLWhfDFf0c",
        "outputId": "96450b23-6422-4f0b-c667-2db84c8caf2a",
        "colab": {
          "base_uri": "https://localhost:8080/"
        }
      },
      "source": [
        "evaluate_model(model1)"
      ],
      "execution_count": null,
      "outputs": [
        {
          "output_type": "stream",
          "text": [
            "모델 에러율 : 14.36%\n"
          ],
          "name": "stdout"
        }
      ]
    },
    {
      "cell_type": "markdown",
      "metadata": {
        "id": "l6vLvVdTRIOO"
      },
      "source": [
        "## 4. 데이터 전처리한 모델 만들기\n",
        "### 4-1. 데이터 전처리\n",
        "#### * 정규화(normalization)\n",
        "\n",
        "픽셀 값을 255로 나누어 0~1사이의 값을 가지도록 변환하는 것처럼 데이터를 특정 범위로 변환하는 처리를 정규화(normalization)라고 한다. 딥러닝에서는 데이터의 전처리가 매우 중요한데, 실제 현업에서는 데이터 전체의 분포를 고려해 전처리하는 경우가 많다. 대표적으로 데이터 전체 평균이 0, 표준편차가 1이 되도록 정규화하는 표준화(standardization)가 있다.\n",
        "\n"
      ]
    },
    {
      "cell_type": "code",
      "metadata": {
        "id": "RiRXEazRQqMe"
      },
      "source": [
        "# 픽셀값 0 ~ 255 를 0 ~ 1 사이의 값으로 정규화\n",
        "X_train = X_train / 255\n",
        "X_test = X_test / 255"
      ],
      "execution_count": null,
      "outputs": []
    },
    {
      "cell_type": "markdown",
      "metadata": {
        "id": "ovHV8hyYS9Tf"
      },
      "source": [
        "\n",
        "### 4-2. 모델 구성"
      ]
    },
    {
      "cell_type": "code",
      "metadata": {
        "id": "ueN7Jjw-SvIz"
      },
      "source": [
        "from keras.models import Sequential\n",
        "from keras.layers import Flatten, Dense\n",
        "\n",
        "# 모델 구성\n",
        "model2 = Sequential()\n",
        "model2.add(Flatten())\n",
        "model2.add(Dense(num_pixels, input_dim=num_pixels, activation='relu'))\n",
        "model2.add(Dense(num_classes, activation='softmax'))\n",
        "\n",
        "# 모델 컴파일\n",
        "model2.compile(loss='categorical_crossentropy', optimizer='adam', metrics=['accuracy'])"
      ],
      "execution_count": null,
      "outputs": []
    },
    {
      "cell_type": "markdown",
      "metadata": {
        "id": "zwAx9_mNUbp3"
      },
      "source": [
        "### 4-3. 모델 학습 모니터링"
      ]
    },
    {
      "cell_type": "code",
      "metadata": {
        "id": "xZm-q251Vsrp",
        "outputId": "d9bd2ac5-80fd-4070-b16b-10c0ed6ba510",
        "colab": {
          "base_uri": "https://localhost:8080/"
        }
      },
      "source": [
        "# 모델 학습\n",
        "history2 = model2.fit(X_train, y_train, validation_data=(X_test, y_test), epochs=10, batch_size=200, verbose=2)"
      ],
      "execution_count": null,
      "outputs": [
        {
          "output_type": "stream",
          "text": [
            "Epoch 1/10\n",
            "300/300 - 1s - loss: 0.5203 - accuracy: 0.8187 - val_loss: 0.4802 - val_accuracy: 0.8252\n",
            "Epoch 2/10\n",
            "300/300 - 1s - loss: 0.3737 - accuracy: 0.8670 - val_loss: 0.3895 - val_accuracy: 0.8590\n",
            "Epoch 3/10\n",
            "300/300 - 1s - loss: 0.3316 - accuracy: 0.8803 - val_loss: 0.3536 - val_accuracy: 0.8743\n",
            "Epoch 4/10\n",
            "300/300 - 1s - loss: 0.3071 - accuracy: 0.8884 - val_loss: 0.3577 - val_accuracy: 0.8731\n",
            "Epoch 5/10\n",
            "300/300 - 1s - loss: 0.2883 - accuracy: 0.8944 - val_loss: 0.3399 - val_accuracy: 0.8784\n",
            "Epoch 6/10\n",
            "300/300 - 1s - loss: 0.2720 - accuracy: 0.9004 - val_loss: 0.3332 - val_accuracy: 0.8802\n",
            "Epoch 7/10\n",
            "300/300 - 1s - loss: 0.2597 - accuracy: 0.9044 - val_loss: 0.3503 - val_accuracy: 0.8740\n",
            "Epoch 8/10\n",
            "300/300 - 1s - loss: 0.2472 - accuracy: 0.9095 - val_loss: 0.3433 - val_accuracy: 0.8749\n",
            "Epoch 9/10\n",
            "300/300 - 1s - loss: 0.2352 - accuracy: 0.9123 - val_loss: 0.3274 - val_accuracy: 0.8816\n",
            "Epoch 10/10\n",
            "300/300 - 1s - loss: 0.2280 - accuracy: 0.9148 - val_loss: 0.3179 - val_accuracy: 0.8863\n"
          ],
          "name": "stdout"
        }
      ]
    },
    {
      "cell_type": "markdown",
      "metadata": {
        "id": "DvaIZc-nTG4Z"
      },
      "source": [
        "### 4-4. 모델v1 예측 및 평가"
      ]
    },
    {
      "cell_type": "code",
      "metadata": {
        "id": "O42CXwyFX0SR",
        "outputId": "acba1b2c-ea09-4750-f11c-79a3413b4fb9",
        "colab": {
          "base_uri": "https://localhost:8080/",
          "height": 411
        }
      },
      "source": [
        "# 손실값 그래프 그리기\n",
        "loss_graph(history2)"
      ],
      "execution_count": null,
      "outputs": [
        {
          "output_type": "display_data",
          "data": {
            "image/png": "[encoded data removed]",
            "text/plain": [
              "<Figure size 576x432 with 1 Axes>"
            ]
          },
          "metadata": {
            "tags": [],
            "needs_background": "light"
          }
        }
      ]
    },
    {
      "cell_type": "code",
      "metadata": {
        "id": "2AzX7wWhYUtI",
        "outputId": "9c37fdd1-4c38-4b0c-ae2e-2a037f2add23",
        "colab": {
          "base_uri": "https://localhost:8080/"
        }
      },
      "source": [
        "# 테스트 데이터로 모델 평가\n",
        "evaluate_model(model2)"
      ],
      "execution_count": null,
      "outputs": [
        {
          "output_type": "stream",
          "text": [
            "모델 에러율 : 11.37%\n"
          ],
          "name": "stdout"
        }
      ]
    },
    {
      "cell_type": "markdown",
      "metadata": {
        "id": "jBMzUj5KUmSo"
      },
      "source": [
        "## 5. 이미지 처리에 좋은 성능을 보이는 신경망(CNN, 합성곱 신경망)\n",
        "\n",
        "<img src=\"https://cdn-images-1.medium.com/max/1600/1*NQQiyYqJJj4PSYAeWvxutg.png\" width=\"700px\">\n",
        "\n",
        "CNN은 심층 신경망에 합성곱 층(convolution layer)와 풀링 층(pooling layer)이라는 고유의 구조를 더한 인공 신경망이다. 기존의 이미지를 처리하는 인공신경망은 이미지 데이터를 단순히 숫자의 모음으로 인식하여 1차원의 숫자 배열 형태로 주욱 펼쳐 연산하였다. 반면 CNN에는 이미지 데이터를 주입할 때, 이미지가 갖추고 있는 3차원 데이터 구조를 파괴하지 않고 마치 퍼즐들의 모음인 것처럼 전달하여 이미지의 특성을 잘 추출할 수 있도록 돕는다.\n",
        "\n",
        "CNN은 합성곱 연산과 풀링 연산을 반복하며 이미지의 특성을 추출해 나간다. 크기가 큰 이미지 데이터를 신경망의 층을 통과하게 하여 데이터의 크기는 줄이고 이미지의 중요한 특성은 뽑아내는 것이 목적이다. 충분히 합성곱 연산을 수행하여 이미지의 특성 맵을 추출한 후, 데이터의 차원을 펼쳐 완전연결망에 주입하여 이미지를 분류하는 것이 일반적이다.\n",
        "\n",
        "<img src=\"https://i.stack.imgur.com/uEoXw.gif\" width=\"600px\">"
      ]
    },
    {
      "cell_type": "code",
      "metadata": {
        "id": "SrqKSj_KcGof",
        "outputId": "81dcd419-d3f2-4849-f825-f3623bdbecf0",
        "colab": {
          "base_uri": "https://localhost:8080/"
        }
      },
      "source": [
        "X_train.shape"
      ],
      "execution_count": null,
      "outputs": [
        {
          "output_type": "execute_result",
          "data": {
            "text/plain": [
              "(60000, 28, 28)"
            ]
          },
          "metadata": {
            "tags": []
          },
          "execution_count": 24
        }
      ]
    },
    {
      "cell_type": "code",
      "metadata": {
        "id": "yg7rl6O0ce-L",
        "outputId": "a61ccaf7-76c8-4fe3-9fa6-86fc6bb7f60e",
        "colab": {
          "base_uri": "https://localhost:8080/"
        }
      },
      "source": [
        "# 채널 차원을 추가하여 데이터의 shape 변환 [samples][width][height][channels]\n",
        "X_train = X_train.reshape(-1, 28, 28, 1)\n",
        "X_test = X_test.reshape(-1, 28, 28, 1)\n",
        "print(X_train.shape, X_test.shape)"
      ],
      "execution_count": null,
      "outputs": [
        {
          "output_type": "stream",
          "text": [
            "(60000, 28, 28, 1) (10000, 28, 28, 1)\n"
          ],
          "name": "stdout"
        }
      ]
    },
    {
      "cell_type": "markdown",
      "metadata": {
        "id": "br2m9Yu_sq23"
      },
      "source": [
        "### 5-1. 모델 구성"
      ]
    },
    {
      "cell_type": "code",
      "metadata": {
        "id": "noxjlYBCVX4I"
      },
      "source": [
        "from keras.layers import Conv2D, MaxPooling2D, Dropout\n",
        "\n",
        "# 모델 구성\n",
        "model3 = Sequential()\n",
        "model3.add(Conv2D(32, (5, 5), input_shape=X_train.shape[1:], activation='relu'))\n",
        "model3.add(MaxPooling2D(pool_size=(2, 2)))\n",
        "model3.add(Dropout(0.2))\n",
        "\n",
        "model3.add(Flatten())\n",
        "model3.add(Dense(128, activation='relu'))\n",
        "model3.add(Dense(num_classes, activation='softmax'))\n",
        "\n",
        "# 모델 컴파일\n",
        "model3.compile(loss='categorical_crossentropy', optimizer='adam', metrics=['accuracy'])"
      ],
      "execution_count": null,
      "outputs": []
    },
    {
      "cell_type": "code",
      "metadata": {
        "id": "RCa9bkyXasNU",
        "outputId": "4634540d-0849-42a8-f02c-8bfecb37c92b",
        "colab": {
          "base_uri": "https://localhost:8080/"
        }
      },
      "source": [
        "model3.summary()"
      ],
      "execution_count": null,
      "outputs": [
        {
          "output_type": "stream",
          "text": [
            "Model: \"sequential_2\"\n",
            "_________________________________________________________________\n",
            "Layer (type)                 Output Shape              Param #   \n",
            "=================================================================\n",
            "conv2d (Conv2D)              (None, 24, 24, 32)        832       \n",
            "_________________________________________________________________\n",
            "max_pooling2d (MaxPooling2D) (None, 12, 12, 32)        0         \n",
            "_________________________________________________________________\n",
            "dropout (Dropout)            (None, 12, 12, 32)        0         \n",
            "_________________________________________________________________\n",
            "flatten_2 (Flatten)          (None, 4608)              0         \n",
            "_________________________________________________________________\n",
            "dense_4 (Dense)              (None, 128)               589952    \n",
            "_________________________________________________________________\n",
            "dense_5 (Dense)              (None, 10)                1290      \n",
            "=================================================================\n",
            "Total params: 592,074\n",
            "Trainable params: 592,074\n",
            "Non-trainable params: 0\n",
            "_________________________________________________________________\n"
          ],
          "name": "stdout"
        }
      ]
    },
    {
      "cell_type": "markdown",
      "metadata": {
        "id": "vyZaLfkqsy7p"
      },
      "source": [
        "### 5-2. 모델 학습 모니터링"
      ]
    },
    {
      "cell_type": "code",
      "metadata": {
        "id": "m244RWjaYxDg",
        "outputId": "04ee226b-df59-4275-aeaf-b93f1fc6ddee",
        "colab": {
          "base_uri": "https://localhost:8080/"
        }
      },
      "source": [
        "# 모델 학습\n",
        "history3 = model3.fit(X_train, y_train, validation_data=(X_test, y_test), epochs=10, batch_size=200, verbose=2)"
      ],
      "execution_count": null,
      "outputs": [
        {
          "output_type": "stream",
          "text": [
            "Epoch 1/10\n",
            "WARNING:tensorflow:Callbacks method `on_train_batch_end` is slow compared to the batch time (batch time: 0.0027s vs `on_train_batch_end` time: 0.0071s). Check your callbacks.\n",
            "300/300 - 1s - loss: 0.5248 - accuracy: 0.8140 - val_loss: 0.3849 - val_accuracy: 0.8625\n",
            "Epoch 2/10\n",
            "300/300 - 1s - loss: 0.3464 - accuracy: 0.8783 - val_loss: 0.3287 - val_accuracy: 0.8854\n",
            "Epoch 3/10\n",
            "300/300 - 1s - loss: 0.3071 - accuracy: 0.8912 - val_loss: 0.3108 - val_accuracy: 0.8876\n",
            "Epoch 4/10\n",
            "300/300 - 1s - loss: 0.2808 - accuracy: 0.8985 - val_loss: 0.2858 - val_accuracy: 0.8974\n",
            "Epoch 5/10\n",
            "300/300 - 1s - loss: 0.2578 - accuracy: 0.9068 - val_loss: 0.2712 - val_accuracy: 0.9009\n",
            "Epoch 6/10\n",
            "300/300 - 1s - loss: 0.2403 - accuracy: 0.9128 - val_loss: 0.2665 - val_accuracy: 0.9013\n",
            "Epoch 7/10\n",
            "300/300 - 1s - loss: 0.2278 - accuracy: 0.9174 - val_loss: 0.2719 - val_accuracy: 0.8997\n",
            "Epoch 8/10\n",
            "300/300 - 1s - loss: 0.2131 - accuracy: 0.9218 - val_loss: 0.2532 - val_accuracy: 0.9104\n",
            "Epoch 9/10\n",
            "300/300 - 1s - loss: 0.1992 - accuracy: 0.9278 - val_loss: 0.2545 - val_accuracy: 0.9080\n",
            "Epoch 10/10\n",
            "300/300 - 1s - loss: 0.1913 - accuracy: 0.9305 - val_loss: 0.2506 - val_accuracy: 0.9123\n"
          ],
          "name": "stdout"
        }
      ]
    },
    {
      "cell_type": "markdown",
      "metadata": {
        "id": "9RP8cbSntI5O"
      },
      "source": [
        "### 5-3. 모델v2 예측 및 평가"
      ]
    },
    {
      "cell_type": "code",
      "metadata": {
        "id": "96x1gFoYY1Rm",
        "outputId": "1fd9870e-c66a-486e-9e15-89bc5264f989",
        "colab": {
          "base_uri": "https://localhost:8080/",
          "height": 411
        }
      },
      "source": [
        "# 손실값 그래프 그리기\n",
        "loss_graph(history3)"
      ],
      "execution_count": null,
      "outputs": [
        {
          "output_type": "display_data",
          "data": {
            "image/png": "[encoded data removed]",
            "text/plain": [
              "<Figure size 576x432 with 1 Axes>"
            ]
          },
          "metadata": {
            "tags": [],
            "needs_background": "light"
          }
        }
      ]
    },
    {
      "cell_type": "code",
      "metadata": {
        "id": "FxKb4KNPd_E7",
        "outputId": "8a7f109c-870b-47af-b33f-e42b1cb50d2b",
        "colab": {
          "base_uri": "https://localhost:8080/"
        }
      },
      "source": [
        "# 테스트 데이터로 모델 평가\n",
        "evaluate_model(model3)"
      ],
      "execution_count": null,
      "outputs": [
        {
          "output_type": "stream",
          "text": [
            "모델 에러율 : 8.77%\n"
          ],
          "name": "stdout"
        }
      ]
    },
    {
      "cell_type": "markdown",
      "metadata": {
        "id": "33TbL7Vovtd4"
      },
      "source": [
        "### 5-4. 내 손글씨를 테스트 데이터로 사용하기\n"
      ]
    },
    {
      "cell_type": "code",
      "metadata": {
        "id": "m6dXxnOWfF6H",
        "outputId": "56afba57-3d84-4ad0-a977-5bf910851bd4",
        "colab": {
          "resources": {
            "http://localhost:8080/nbextensions/google.colab/files.js": {
              "data": "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",
              "ok": true,
              "headers": [
                [
                  "content-type",
                  "application/javascript"
                ]
              ],
              "status": 200,
              "status_text": ""
            }
          },
          "base_uri": "https://localhost:8080/",
          "height": 76
        }
      },
      "source": [
        "from google.colab import files\n",
        "uploaded = files.upload()"
      ],
      "execution_count": null,
      "outputs": [
        {
          "output_type": "display_data",
          "data": {
            "text/html": [
              "\n",
              "     <input type=\"file\" id=\"files-10755139-926c-4482-812e-05f52fbe903c\" name=\"files[]\" multiple disabled\n",
              "        style=\"border:none\" />\n",
              "     <output id=\"result-10755139-926c-4482-812e-05f52fbe903c\">\n",
              "      Upload widget is only available when the cell has been executed in the\n",
              "      current browser session. Please rerun this cell to enable.\n",
              "      </output>\n",
              "      <script src=\"/nbextensions/google.colab/files.js\"></script> "
            ],
            "text/plain": [
              "<IPython.core.display.HTML object>"
            ]
          },
          "metadata": {
            "tags": []
          }
        },
        {
          "output_type": "stream",
          "text": [
            "Saving p.png to p.png\n"
          ],
          "name": "stdout"
        }
      ]
    },
    {
      "cell_type": "code",
      "metadata": {
        "id": "TaohNQ0ogmNP"
      },
      "source": [
        "from tensorflow.keras.preprocessing import image\n",
        "\n",
        "s = image.load_img('t.png', target_size=(28, 28), color_mode=\"grayscale\")"
      ],
      "execution_count": null,
      "outputs": []
    },
    {
      "cell_type": "code",
      "metadata": {
        "id": "YXftUAwcozNE",
        "outputId": "49f7ae81-ecfd-49d3-84e3-7fb9e9fbb87d",
        "colab": {
          "base_uri": "https://localhost:8080/"
        }
      },
      "source": [
        "# samples 변수에 손글씨 파일명 입력하기\n",
        "samples = ['p.png','t.png']\n",
        "\n",
        "# 내 손글씨 예측하기\n",
        "for sample in samples:\n",
        "  s = image.load_img(sample, target_size=(28, 28), color_mode=\"grayscale\")\n",
        "  img = image.img_to_array(s).astype('float32')\n",
        "  print(np.argmax(model3.predict(img.reshape(-1, 28, 28, 1))))"
      ],
      "execution_count": null,
      "outputs": [
        {
          "output_type": "stream",
          "text": [
            "3\n",
            "0\n"
          ],
          "name": "stdout"
        }
      ]
    },
    {
      "cell_type": "code",
      "metadata": {
        "id": "a-Ihd2tk55uh"
      },
      "source": [
        "https://keras.io/api/datasets/fashion_mnist/\n",
        "데이터 로드하는 부분 코드를 이렇게 바꾸시면 됩니다\n",
        "# MNIST 데이터셋 로드\n",
        "from keras.datasets import fashion_mnist\n",
        "\n",
        "# X_train: 학습 데이터   y_train: 학습 레이블(정답)\n",
        "# X_test: 테스트 데이터  y_test: 테스트 레이블(정답)\n",
        "(X_train, y_train), (X_test, y_test) = fashion_mnist.load_data()\n"
      ],
      "execution_count": null,
      "outputs": []
    }
  ]
}