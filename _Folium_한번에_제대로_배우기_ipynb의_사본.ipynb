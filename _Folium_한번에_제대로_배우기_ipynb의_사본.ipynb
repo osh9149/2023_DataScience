{
  "nbformat": 4,
  "nbformat_minor": 0,
  "metadata": {
    "colab": {
      "provenance": [],
      "toc_visible": true,
      "include_colab_link": true
    },
    "kernelspec": {
      "name": "python3",
      "display_name": "Python 3"
    }
  },
  "cells": [
    {
      "cell_type": "markdown",
      "metadata": {
        "id": "view-in-github",
        "colab_type": "text"
      },
      "source": [
        "<a href=\"https://colab.research.google.com/github/osh9149/2023_DataScience/blob/main/_Folium_%ED%95%9C%EB%B2%88%EC%97%90_%EC%A0%9C%EB%8C%80%EB%A1%9C_%EB%B0%B0%EC%9A%B0%EA%B8%B0_ipynb%EC%9D%98_%EC%82%AC%EB%B3%B8.ipynb\" target=\"_parent\"><img src=\"https://colab.research.google.com/assets/colab-badge.svg\" alt=\"Open In Colab\"/></a>"
      ]
    },
    {
      "cell_type": "markdown",
      "metadata": {
        "id": "BlPRHZZ9x8Bg"
      },
      "source": [
        "# Folium 한번에 제대로 배우기"
      ]
    },
    {
      "cell_type": "code",
      "metadata": {
        "id": "B7gC42v7kU8n"
      },
      "source": [],
      "execution_count": null,
      "outputs": []
    },
    {
      "cell_type": "code",
      "metadata": {
        "id": "36u4U3y_kZ8v"
      },
      "source": [],
      "execution_count": null,
      "outputs": []
    },
    {
      "cell_type": "code",
      "metadata": {
        "id": "7OtHhwUeyUrI"
      },
      "source": [],
      "execution_count": null,
      "outputs": []
    },
    {
      "cell_type": "code",
      "metadata": {
        "id": "U5FzBmxByX3C"
      },
      "source": [],
      "execution_count": null,
      "outputs": []
    },
    {
      "cell_type": "markdown",
      "metadata": {
        "id": "x9dtVn9Lyx0r"
      },
      "source": [
        "## 타일(Tiles)\n",
        "\n",
        "* OpenStreetMap\n",
        "* Mapbox Bright (Limited levels of zoom for free tiles)\n",
        "* Mapbox Control Room (Limited levels of zoom for free tiles)\n",
        "* Stamen (Terrain, Toner, and Watercolor)\n",
        "* Cloudmade (Must pass API key)\n",
        "* Mapbox (Must pass API key)\n",
        "* CartoDB (positron and dark_matter)"
      ]
    },
    {
      "cell_type": "code",
      "metadata": {
        "id": "_jYMIPTbka_z"
      },
      "source": [],
      "execution_count": null,
      "outputs": []
    },
    {
      "cell_type": "markdown",
      "metadata": {
        "id": "Ko6JVhHPy7Db"
      },
      "source": [
        "## 마커(Markers)"
      ]
    },
    {
      "cell_type": "code",
      "metadata": {
        "id": "0nCREbBFyHrx"
      },
      "source": [],
      "execution_count": null,
      "outputs": []
    },
    {
      "cell_type": "markdown",
      "metadata": {
        "id": "CWCaXu1aXQFu"
      },
      "source": [
        "### 아이콘(Icon)"
      ]
    },
    {
      "cell_type": "code",
      "metadata": {
        "id": "f3VrFJ8HzEbG"
      },
      "source": [],
      "execution_count": null,
      "outputs": []
    },
    {
      "cell_type": "code",
      "metadata": {
        "id": "j42t2w8PDZc4"
      },
      "source": [],
      "execution_count": null,
      "outputs": []
    },
    {
      "cell_type": "markdown",
      "metadata": {
        "id": "Nt1DTh2SALI7"
      },
      "source": [
        "### 보트 마커(Boat Marker)"
      ]
    },
    {
      "cell_type": "code",
      "metadata": {
        "id": "fHLPKSzqAObh"
      },
      "source": [],
      "execution_count": null,
      "outputs": []
    },
    {
      "cell_type": "markdown",
      "metadata": {
        "id": "0P-DDwLrXngI"
      },
      "source": [
        "### 클릭 마커"
      ]
    },
    {
      "cell_type": "code",
      "metadata": {
        "id": "Wn9Rv_7UzStp"
      },
      "source": [],
      "execution_count": null,
      "outputs": []
    },
    {
      "cell_type": "markdown",
      "metadata": {
        "id": "ME4brC3iXV42"
      },
      "source": [
        "### 원(Circle)"
      ]
    },
    {
      "cell_type": "code",
      "metadata": {
        "id": "xGns2S-8zJXP"
      },
      "source": [],
      "execution_count": null,
      "outputs": []
    },
    {
      "cell_type": "markdown",
      "metadata": {
        "id": "My_ETn3IXF2Z"
      },
      "source": [
        "* 서울: [37.566687, 126.978417]\n",
        "* 부산: [35.179774, 129.075004]\n",
        "* 인천: [37.455900, 126.705522]\n",
        "* 대구: [35.871380, 128.601743]\n",
        "* 대전: [36.350451, 127.384827]\n",
        "* 광주: [35.160072, 126.851440]"
      ]
    },
    {
      "cell_type": "code",
      "metadata": {
        "id": "b3ode1o1X-nL"
      },
      "source": [],
      "execution_count": null,
      "outputs": []
    },
    {
      "cell_type": "markdown",
      "metadata": {
        "id": "YGclaraCjNNK"
      },
      "source": [
        "### 폴리 라인(Poly Line)"
      ]
    },
    {
      "cell_type": "code",
      "metadata": {
        "id": "JDuEp0vnjTOb"
      },
      "source": [],
      "execution_count": null,
      "outputs": []
    },
    {
      "cell_type": "markdown",
      "metadata": {
        "id": "UBYAX87sjzCu"
      },
      "source": [
        "### 사각형(Rectangle)"
      ]
    },
    {
      "cell_type": "code",
      "metadata": {
        "id": "VXGLDYBvj1rg"
      },
      "source": [],
      "execution_count": null,
      "outputs": []
    },
    {
      "cell_type": "markdown",
      "metadata": {
        "id": "FDvvRnPAkETg"
      },
      "source": [
        "### 폴리곤(Polygon)"
      ]
    },
    {
      "cell_type": "code",
      "metadata": {
        "id": "v65m-8yUkIIT"
      },
      "source": [],
      "execution_count": null,
      "outputs": []
    },
    {
      "cell_type": "markdown",
      "metadata": {
        "id": "JMLK1aRL1f9-"
      },
      "source": [
        "### PolyLineTextPath"
      ]
    },
    {
      "cell_type": "code",
      "metadata": {
        "id": "0ZeWFXh90pDx"
      },
      "source": [],
      "execution_count": null,
      "outputs": []
    },
    {
      "cell_type": "code",
      "metadata": {
        "id": "U1_PFkmZ1ydc"
      },
      "source": [],
      "execution_count": null,
      "outputs": []
    },
    {
      "cell_type": "markdown",
      "metadata": {
        "id": "Sp7jORdEXZol"
      },
      "source": [
        "### 팝업(Popup)"
      ]
    },
    {
      "cell_type": "code",
      "metadata": {
        "id": "uYks_kK0zPu6"
      },
      "source": [],
      "execution_count": null,
      "outputs": []
    },
    {
      "cell_type": "code",
      "metadata": {
        "id": "wT5hd3GGg_f0"
      },
      "source": [],
      "execution_count": null,
      "outputs": []
    },
    {
      "cell_type": "code",
      "metadata": {
        "id": "Caka3hodkmf8"
      },
      "source": [],
      "execution_count": null,
      "outputs": []
    },
    {
      "cell_type": "code",
      "metadata": {
        "id": "k8rxDqpJl57L"
      },
      "source": [],
      "execution_count": null,
      "outputs": []
    },
    {
      "cell_type": "markdown",
      "metadata": {
        "id": "anH_LnqObB6B"
      },
      "source": [
        "### 마커 클러스터(Marker Cluster)"
      ]
    },
    {
      "cell_type": "code",
      "metadata": {
        "id": "zKyjxR10bESq"
      },
      "source": [],
      "execution_count": null,
      "outputs": []
    },
    {
      "cell_type": "markdown",
      "metadata": {
        "id": "l_hEAoTgYGIq"
      },
      "source": [
        "### Vega(베가)"
      ]
    },
    {
      "cell_type": "code",
      "metadata": {
        "id": "_BAuUTdmdg0y"
      },
      "source": [],
      "execution_count": null,
      "outputs": []
    },
    {
      "cell_type": "code",
      "metadata": {
        "id": "EwI4LJ6lcnpy"
      },
      "source": [],
      "execution_count": null,
      "outputs": []
    },
    {
      "cell_type": "markdown",
      "metadata": {
        "id": "KH4sO069WkH-"
      },
      "source": [
        "* https://raw.githubusercontent.com/python-visualization/folium/master/examples/data\n",
        "  + vis1.json - [47.3489, -124.708]\n",
        "  + vis2.json - [44.639, -124.5339]\n",
        "  + vis3.json - [46.216, -124.1280]"
      ]
    },
    {
      "cell_type": "code",
      "metadata": {
        "id": "z8PuJFHYztVw"
      },
      "source": [],
      "execution_count": null,
      "outputs": []
    },
    {
      "cell_type": "code",
      "metadata": {
        "id": "h0dopMQiOMpa"
      },
      "source": [],
      "execution_count": null,
      "outputs": []
    },
    {
      "cell_type": "markdown",
      "metadata": {
        "id": "kjG-KuLvz_Bb"
      },
      "source": [
        "## 스타일(Style)"
      ]
    },
    {
      "cell_type": "markdown",
      "metadata": {
        "id": "OfYT1rsb5Q6k"
      },
      "source": [
        "### 타일(Tiles)"
      ]
    },
    {
      "cell_type": "markdown",
      "metadata": {
        "id": "myZ0_7Hi5ZFr"
      },
      "source": [
        "* Map Tiles\n",
        "  + OpenStreetMap\n",
        "  + Stamen Terrain\n",
        "  + Stamen Toner\n",
        "  + Stamen Watercolor\n",
        "  + CartoDB positron\n",
        "  + CartoDB dark_matter"
      ]
    },
    {
      "cell_type": "code",
      "metadata": {
        "id": "VRjou0YM5Tv_"
      },
      "source": [],
      "execution_count": null,
      "outputs": []
    },
    {
      "cell_type": "markdown",
      "metadata": {
        "id": "b09TE6E4dSP7"
      },
      "source": [
        "### 위치(Position)"
      ]
    },
    {
      "cell_type": "code",
      "metadata": {
        "id": "Olpg9-madVhY"
      },
      "source": [],
      "execution_count": null,
      "outputs": []
    },
    {
      "cell_type": "code",
      "metadata": {
        "id": "ErGH7jpgdlma"
      },
      "source": [],
      "execution_count": null,
      "outputs": []
    },
    {
      "cell_type": "markdown",
      "metadata": {
        "id": "BHMUGd2Qemcz"
      },
      "source": [
        "### 터미네이터(Terminator)"
      ]
    },
    {
      "cell_type": "code",
      "metadata": {
        "id": "u1r53oUJep1f"
      },
      "source": [],
      "execution_count": null,
      "outputs": []
    },
    {
      "cell_type": "markdown",
      "metadata": {
        "id": "Y9GJGsFBe4kr"
      },
      "source": [
        "### 측정 제어(Measure Control)"
      ]
    },
    {
      "cell_type": "code",
      "metadata": {
        "id": "5FXyt1Sje9jL"
      },
      "source": [],
      "execution_count": null,
      "outputs": []
    },
    {
      "cell_type": "markdown",
      "metadata": {
        "id": "pWjmhTh0fYbE"
      },
      "source": [
        "### 그리기(Draw)"
      ]
    },
    {
      "cell_type": "code",
      "metadata": {
        "id": "16m10Arxfb_A"
      },
      "source": [],
      "execution_count": null,
      "outputs": []
    },
    {
      "cell_type": "markdown",
      "metadata": {
        "id": "D563XUe4WwcW"
      },
      "source": [
        "### 그룹(Group)"
      ]
    },
    {
      "cell_type": "code",
      "metadata": {
        "id": "4AOwkCM7W0KE"
      },
      "source": [],
      "execution_count": null,
      "outputs": []
    },
    {
      "cell_type": "markdown",
      "metadata": {
        "id": "fLOTnQjYboVX"
      },
      "source": [
        "## 듀얼맵(Dualmap)"
      ]
    },
    {
      "cell_type": "code",
      "metadata": {
        "id": "dgl86qk_bq2s"
      },
      "source": [],
      "execution_count": null,
      "outputs": []
    },
    {
      "cell_type": "code",
      "metadata": {
        "id": "Ot6F6HrrcFw8"
      },
      "source": [],
      "execution_count": null,
      "outputs": []
    },
    {
      "cell_type": "code",
      "metadata": {
        "id": "i7Ncdq45ciU9"
      },
      "source": [],
      "execution_count": null,
      "outputs": []
    },
    {
      "cell_type": "code",
      "metadata": {
        "id": "3J1uR0jZc-vl"
      },
      "source": [],
      "execution_count": null,
      "outputs": []
    },
    {
      "cell_type": "markdown",
      "metadata": {
        "id": "3pOgkGnVYrMI"
      },
      "source": [
        "## 미니맵(Minimap)"
      ]
    },
    {
      "cell_type": "code",
      "metadata": {
        "id": "kRiF9C70YtNA"
      },
      "source": [],
      "execution_count": null,
      "outputs": []
    },
    {
      "cell_type": "markdown",
      "metadata": {
        "id": "6LT-pxM3TeaW"
      },
      "source": [
        "## 히트맵(Heatmap)"
      ]
    },
    {
      "cell_type": "code",
      "metadata": {
        "id": "O9zzBzdjTgwb"
      },
      "source": [],
      "execution_count": null,
      "outputs": []
    },
    {
      "cell_type": "code",
      "metadata": {
        "id": "6cKLAySsAGEb"
      },
      "source": [],
      "execution_count": null,
      "outputs": []
    },
    {
      "cell_type": "markdown",
      "metadata": {
        "id": "trmYObJyz2F2"
      },
      "source": [
        "## GeoJson, TopoJson, Choropleth maps"
      ]
    },
    {
      "cell_type": "markdown",
      "metadata": {
        "id": "bFH7kxrzVp-j"
      },
      "source": [
        "* https://raw.githubusercontent.com/python-visualization/folium/master/examples/data\n",
        "  + us-states.json\n",
        "  + US_Unemployment_Oct2012.csv"
      ]
    },
    {
      "cell_type": "code",
      "metadata": {
        "id": "oxtx9qfiB5nB"
      },
      "source": [],
      "execution_count": null,
      "outputs": []
    },
    {
      "cell_type": "code",
      "metadata": {
        "id": "jX6LR0AYCcyz"
      },
      "source": [],
      "execution_count": null,
      "outputs": []
    },
    {
      "cell_type": "code",
      "metadata": {
        "id": "4XMukQVbC6KE"
      },
      "source": [],
      "execution_count": null,
      "outputs": []
    },
    {
      "cell_type": "code",
      "metadata": {
        "id": "YpH_ddArBsB3"
      },
      "source": [],
      "execution_count": null,
      "outputs": []
    },
    {
      "cell_type": "code",
      "metadata": {
        "id": "z8aldOZYzzpf"
      },
      "source": [],
      "execution_count": null,
      "outputs": []
    },
    {
      "cell_type": "code",
      "metadata": {
        "id": "k5tfWuvjz5Ij"
      },
      "source": [],
      "execution_count": null,
      "outputs": []
    },
    {
      "cell_type": "markdown",
      "metadata": {
        "id": "hwi-QfMZo3So"
      },
      "source": [
        "* South Korea github: https://github.com/southkorea\n",
        "* 서울 열린데이터 광장: https://data.seoul.go.kr/\n",
        "\n",
        "* 서울시 지도: https://raw.githubusercontent.com/suanlab/dataset/master/seoul_municipalities_geo_simple.json\n",
        "* 서울시 인구수: https://raw.githubusercontent.com/suanlab/dataset/master/seoul_population.csv"
      ]
    },
    {
      "cell_type": "code",
      "metadata": {
        "id": "58QnyODlMeZ4"
      },
      "source": [],
      "execution_count": null,
      "outputs": []
    },
    {
      "cell_type": "code",
      "metadata": {
        "id": "xJhXVpdHm_4s"
      },
      "source": [],
      "execution_count": null,
      "outputs": []
    },
    {
      "cell_type": "code",
      "metadata": {
        "id": "eTmHQ5TmEkwo"
      },
      "source": [],
      "execution_count": null,
      "outputs": []
    },
    {
      "cell_type": "code",
      "metadata": {
        "id": "pe_ZRhjLE_Z2"
      },
      "source": [],
      "execution_count": null,
      "outputs": []
    },
    {
      "cell_type": "code",
      "metadata": {
        "id": "hWngGMjOE4gU"
      },
      "source": [],
      "execution_count": null,
      "outputs": []
    },
    {
      "cell_type": "code",
      "metadata": {
        "id": "Lw5EnwseIzmV"
      },
      "source": [],
      "execution_count": null,
      "outputs": []
    },
    {
      "cell_type": "markdown",
      "metadata": {
        "id": "E5GRa0B_5Mjx"
      },
      "source": [
        "* South Korea github: https://github.com/southkorea\n",
        "* 국가통계포털: http://kosis.kr\n",
        "* 전국시도 지도: https://raw.githubusercontent.com/suanlab/dataset/master/skorea-provinces-2018-geo.json\n",
        "* 전국시도 인구수: https://raw.githubusercontent.com/suanlab/dataset/master/skorea_provinces_population.csv"
      ]
    },
    {
      "cell_type": "code",
      "metadata": {
        "id": "9_a9h0tkczDB"
      },
      "source": [],
      "execution_count": null,
      "outputs": []
    },
    {
      "cell_type": "code",
      "metadata": {
        "id": "dMpeuHI95HTG"
      },
      "source": [],
      "execution_count": null,
      "outputs": []
    },
    {
      "cell_type": "code",
      "metadata": {
        "id": "FkxegZwGFNX1"
      },
      "source": [],
      "execution_count": null,
      "outputs": []
    },
    {
      "cell_type": "markdown",
      "metadata": {
        "id": "Mggb32BJF3UP"
      },
      "source": [
        "* South Korea github: https://github.com/southkorea\n",
        "* 국가통계포털: http://kosis.kr\n",
        "* 행정구역 지도: https://raw.githubusercontent.com/suanlab/dataset/master/skorea-municipalities-2018-geo.json\n",
        "* 행정구역 인구수: https://raw.githubusercontent.com/suanlab/dataset/master/skorea_municipalities_population.csv"
      ]
    },
    {
      "cell_type": "code",
      "metadata": {
        "id": "z-_MvqSveGNX"
      },
      "source": [],
      "execution_count": null,
      "outputs": []
    },
    {
      "cell_type": "code",
      "metadata": {
        "id": "CUwclGnOF3uC"
      },
      "source": [],
      "execution_count": null,
      "outputs": []
    },
    {
      "cell_type": "code",
      "metadata": {
        "id": "P4-7BMqzLEup"
      },
      "source": [],
      "execution_count": null,
      "outputs": []
    },
    {
      "cell_type": "markdown",
      "metadata": {
        "id": "Y3rIC1krYdgc"
      },
      "source": [
        "* https://raw.githubusercontent.com/python-visualization/folium/master/examples/data\n",
        "  + us_county_data.csv\n",
        "  + us_counties_20m_topo.json"
      ]
    },
    {
      "cell_type": "code",
      "metadata": {
        "id": "8jr9arZ-hR3b"
      },
      "source": [],
      "execution_count": null,
      "outputs": []
    },
    {
      "cell_type": "code",
      "metadata": {
        "id": "zVwdHVL7z8wc"
      },
      "source": [],
      "execution_count": null,
      "outputs": []
    },
    {
      "cell_type": "code",
      "metadata": {
        "id": "hY0mbU_y0Bky"
      },
      "source": [],
      "execution_count": null,
      "outputs": []
    },
    {
      "cell_type": "code",
      "metadata": {
        "id": "3PFe1gYB0Edb"
      },
      "source": [],
      "execution_count": null,
      "outputs": []
    },
    {
      "cell_type": "markdown",
      "metadata": {
        "id": "O8Cy3xtdMmDF"
      },
      "source": [
        "## 대화형(Interactive)\n",
        "\n",
        "* OpenStreetMap\n",
        "* Stamen Terrain\n",
        "* Stamen Toner\n",
        "* Stamen Watercolor\n",
        "* CartoDB positron\n",
        "* CartoDB dark_matter"
      ]
    },
    {
      "cell_type": "code",
      "metadata": {
        "id": "a9swc-37Mhzu"
      },
      "source": [],
      "execution_count": null,
      "outputs": []
    },
    {
      "cell_type": "markdown",
      "metadata": {
        "id": "PHLpfn2ZRAI8"
      },
      "source": [
        " ## 참고문헌\n",
        "\n",
        " * https://python-visualization.github.io/folium/"
      ]
    }
  ]
}