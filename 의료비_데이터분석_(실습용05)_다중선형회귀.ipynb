{
  "nbformat": 4,
  "nbformat_minor": 0,
  "metadata": {
    "colab": {
      "provenance": [],
      "include_colab_link": true
    },
    "kernelspec": {
      "name": "python3",
      "display_name": "Python 3"
    },
    "language_info": {
      "name": "python"
    }
  },
  "cells": [
    {
      "cell_type": "markdown",
      "metadata": {
        "id": "view-in-github",
        "colab_type": "text"
      },
      "source": [
        "<a href=\"https://colab.research.google.com/github/osh9149/2023_DataScience/blob/main/%EC%9D%98%EB%A3%8C%EB%B9%84_%EB%8D%B0%EC%9D%B4%ED%84%B0%EB%B6%84%EC%84%9D_(%EC%8B%A4%EC%8A%B5%EC%9A%A905)_%EB%8B%A4%EC%A4%91%EC%84%A0%ED%98%95%ED%9A%8C%EA%B7%80.ipynb\" target=\"_parent\"><img src=\"https://colab.research.google.com/assets/colab-badge.svg\" alt=\"Open In Colab\"/></a>"
      ]
    },
    {
      "cell_type": "markdown",
      "metadata": {
        "id": "dRDjLJ0p9OYM"
      },
      "source": [
        "# <5> 의료비 데이터\n",
        "\n",
        "\"의료비는 성별, 흡연, 음주, 부양가족수 등과 어떤 상관관계가 있을까?\"\n",
        "\n",
        "### 🚩 파일 다운로드 [>> 클릭]\n",
        "[출처 - kaggle](https://www.kaggle.com/datasets/teertha/ushealthinsurancedataset)"
      ]
    },
    {
      "cell_type": "markdown",
      "metadata": {
        "id": "oS04FAjj-BIS"
      },
      "source": [
        "# 0. 한글폰트 설정\n",
        "\n",
        "\n",
        "1️⃣   한글 폰트 코드 실행\n",
        "```\n",
        "!sudo apt-get install -y fonts-nanum\n",
        "!sudo fc-cache -fv\n",
        "!rm ~/.cache/matplotlib -rf\n",
        "```\n"
      ]
    },
    {
      "cell_type": "code",
      "execution_count": 1,
      "metadata": {
        "id": "45tCIR9VIz8m"
      },
      "outputs": [],
      "source": [
        "#한글 폰트 설정\n",
        "\n",
        "\n"
      ]
    },
    {
      "cell_type": "markdown",
      "metadata": {
        "id": "PD4Q_mQy9tdr"
      },
      "source": [
        "\n",
        "2️⃣ **런타임 - 런타임 다시시작**\n",
        "\n",
        "```\n",
        "import os\n",
        "os.kill(os.getpid(), 9)\n",
        "```"
      ]
    },
    {
      "cell_type": "code",
      "execution_count": 2,
      "metadata": {
        "id": "8CqpbXi69sO1"
      },
      "outputs": [],
      "source": [
        "# 런타임 다시시작\n",
        "\n",
        "\n"
      ]
    },
    {
      "cell_type": "markdown",
      "metadata": {
        "id": "noNcGdXK-BIW"
      },
      "source": [
        "\n",
        "3️⃣  **글꼴 지정 명령어**\n",
        "```\n",
        "import matplotlib.pyplot as plt\n",
        "\n",
        "plt.rc('font', family='NanumBarunGothic')\n",
        "```"
      ]
    },
    {
      "cell_type": "code",
      "execution_count": 3,
      "metadata": {
        "id": "ZMGnzxetZgci"
      },
      "outputs": [],
      "source": [
        "# matplotlib 라이브러리, 폰트 지정\n",
        "\n"
      ]
    },
    {
      "cell_type": "markdown",
      "metadata": {
        "id": "u1CIfT-E8H0w"
      },
      "source": [
        "\n",
        "\n",
        "\n",
        "# 1. 파일 업로드\n",
        "\n",
        "```\n",
        "from google.colab import files\n",
        "uploaded = files.upload()\n",
        "```"
      ]
    },
    {
      "cell_type": "code",
      "execution_count": 4,
      "metadata": {
        "id": "xMe9NjEmuO2o"
      },
      "outputs": [],
      "source": [
        "#파일 업로드\n",
        "\n"
      ]
    },
    {
      "cell_type": "markdown",
      "metadata": {
        "id": "856yefHCuK2D"
      },
      "source": [
        "### csv 파일을 읽어서 DataFrame으로 변환하기\n",
        "\n",
        "```\n",
        "import pandas as pd\n",
        "\n",
        "data = pd.read_excel('파일 이름')\n",
        "data = pd.read_csv('파일 이름', encoding='cp949')\n",
        "```\n",
        "\n"
      ]
    },
    {
      "cell_type": "code",
      "execution_count": 5,
      "metadata": {
        "id": "n7-u9nREgdtn"
      },
      "outputs": [],
      "source": [
        "#csv 파일 읽기\n",
        "\n",
        "\n"
      ]
    },
    {
      "cell_type": "code",
      "execution_count": 6,
      "metadata": {
        "id": "VZc6yzL9_Nw8"
      },
      "outputs": [],
      "source": [
        "# 데이터의 기본정보 출력\n",
        "\n"
      ]
    },
    {
      "cell_type": "markdown",
      "source": [
        "#데이터의 결측치 값 체크"
      ],
      "metadata": {
        "id": "A75m3usxcmol"
      }
    },
    {
      "cell_type": "markdown",
      "source": [
        "```\n",
        "data.isnull().sum()\n",
        "```"
      ],
      "metadata": {
        "id": "boHDCWgNWMyU"
      }
    },
    {
      "cell_type": "code",
      "source": [],
      "metadata": {
        "id": "1Uf2CGNacln7"
      },
      "execution_count": 6,
      "outputs": []
    },
    {
      "cell_type": "markdown",
      "metadata": {
        "id": "eRbIj6OSytuV"
      },
      "source": [
        "#### 데이터 기본정보 파악하기  \n",
        "```\n",
        "data.info\n",
        "```"
      ]
    },
    {
      "cell_type": "code",
      "execution_count": 6,
      "metadata": {
        "id": "M3tJXJ8nAzmL"
      },
      "outputs": [],
      "source": [
        "\n"
      ]
    },
    {
      "cell_type": "markdown",
      "source": [
        "#데이터 상관관계 분석"
      ],
      "metadata": {
        "id": "c2F0_ENzM3CN"
      }
    },
    {
      "cell_type": "code",
      "source": [],
      "metadata": {
        "id": "JqpP8ExJM3O8"
      },
      "execution_count": 6,
      "outputs": []
    },
    {
      "cell_type": "markdown",
      "source": [
        "#모든 속성간의 상관관계를 그래프로 한번에 확인하기\n",
        "```\n",
        "import seaborn as sns\n",
        "sns.pairplot(data)\n",
        "plt.show()\n"
      ],
      "metadata": {
        "id": "3HfNbustNYhO"
      }
    },
    {
      "cell_type": "code",
      "source": [],
      "metadata": {
        "id": "L60tvSttNOgW"
      },
      "execution_count": 6,
      "outputs": []
    },
    {
      "cell_type": "markdown",
      "source": [
        "```\n",
        "sns.heatmap(data.corr(),cmap='BuPu', annot=True) #cmap을 바꿀 것\n",
        "plt.show()\n",
        "```\n",
        "https://r02b.github.io/seaborn_palettes/\n"
      ],
      "metadata": {
        "id": "PEaHgZ9aWhJ2"
      }
    },
    {
      "cell_type": "code",
      "source": [],
      "metadata": {
        "id": "SMdPmujENdsN"
      },
      "execution_count": 6,
      "outputs": []
    },
    {
      "cell_type": "markdown",
      "source": [
        "#단순선형 회귀\n",
        "-나이와 의료비의 상관관계"
      ],
      "metadata": {
        "id": "oG85WM1yOZkA"
      }
    },
    {
      "cell_type": "code",
      "source": [
        "# 머신러닝 알고리즘에 학습시킬 속성은 이차원 형태여야 함\n"
      ],
      "metadata": {
        "id": "3a1dj4t6NdvS"
      },
      "execution_count": 7,
      "outputs": []
    },
    {
      "cell_type": "code",
      "source": [
        "#데이터를 훈련용, 테스트용으로 나눔\n",
        "\n",
        "\n",
        "\n",
        "#선형회귀모델에 데이터를 훈련시킴\n",
        "\n",
        "\n",
        "\n",
        "#가중치와 바이어스를 출력\n"
      ],
      "metadata": {
        "id": "PbK7ReCUNdx_"
      },
      "execution_count": 8,
      "outputs": []
    },
    {
      "cell_type": "code",
      "source": [
        "# 전체 테스트데이터의 예측값을 y_pred에 저장하기\n",
        "\n",
        "\n"
      ],
      "metadata": {
        "id": "cJKquZfKOQMP"
      },
      "execution_count": 9,
      "outputs": []
    },
    {
      "cell_type": "code",
      "source": [
        "# 테스트 데이터의 실제값 : 파란색 산점도\n",
        "\n",
        "\n",
        "# 테스트 데이터의 예측값 : 빨간색 선 그래프\n",
        "\n",
        "\n",
        "\n"
      ],
      "metadata": {
        "id": "GfWVpnNpOQPx"
      },
      "execution_count": 10,
      "outputs": []
    },
    {
      "cell_type": "code",
      "source": [
        "#모델 평가(예측정확도)\n",
        "\n"
      ],
      "metadata": {
        "id": "q09i9A4uOhQG"
      },
      "execution_count": 11,
      "outputs": []
    },
    {
      "cell_type": "markdown",
      "source": [
        "#다중 선형회귀\n",
        "-나이, bmi 지수와 상관관계"
      ],
      "metadata": {
        "id": "dXNHAzfsOVlc"
      }
    },
    {
      "cell_type": "code",
      "source": [
        "# 핵심속성과 레이블 분리\n",
        "\n",
        "\n",
        "# 훈련 데이터, 테스트 데이터 분리\n",
        "\n",
        "\n",
        "# 선형회귀 모델 생성하고 학습시키기\n",
        "\n",
        "\n",
        "# 추세선 정보 확인하기\n"
      ],
      "metadata": {
        "id": "R-vKSHrDOQTM"
      },
      "execution_count": 12,
      "outputs": []
    },
    {
      "cell_type": "code",
      "source": [
        "# 완성된 모델 lr2의 점수\n"
      ],
      "metadata": {
        "id": "N4XZxp3LOQW2"
      },
      "execution_count": 13,
      "outputs": []
    },
    {
      "cell_type": "markdown",
      "metadata": {
        "id": "bUuZOEdBWnK5"
      },
      "source": [
        "#모델의 정확도를 높이기 위해 다른 속성도 적용을 해보자\n",
        "```\n",
        "흡연여부, bmi 지수를 비만인지 아닌지 측정(30보다 크면 비만)\n",
        "```"
      ]
    },
    {
      "cell_type": "code",
      "execution_count": 14,
      "metadata": {
        "id": "8-oB7gIeT-09",
        "colab": {
          "base_uri": "https://localhost:8080/",
          "height": 184
        },
        "outputId": "b163ce26-591c-4e60-fe71-b2577767d0fa"
      },
      "outputs": [
        {
          "output_type": "error",
          "ename": "NameError",
          "evalue": "ignored",
          "traceback": [
            "\u001b[0;31m---------------------------------------------------------------------------\u001b[0m",
            "\u001b[0;31mNameError\u001b[0m                                 Traceback (most recent call last)",
            "\u001b[0;32m<ipython-input-14-c5d84736ba45>\u001b[0m in \u001b[0;36m<cell line: 1>\u001b[0;34m()\u001b[0m\n\u001b[0;32m----> 1\u001b[0;31m \u001b[0mdata\u001b[0m\u001b[0;34m\u001b[0m\u001b[0;34m\u001b[0m\u001b[0m\n\u001b[0m",
            "\u001b[0;31mNameError\u001b[0m: name 'data' is not defined"
          ]
        }
      ],
      "source": [
        "data"
      ]
    },
    {
      "cell_type": "markdown",
      "source": [
        "#새로운 열을 추가하여 흡연여부를 0, 1로 저장\n",
        "```\n",
        "import numpy as np\n",
        "data=data.assign(smoker1=np.nan)\n",
        "data\n",
        "```"
      ],
      "metadata": {
        "id": "kwGfYHcWjroH"
      }
    },
    {
      "cell_type": "code",
      "source": [
        "\n"
      ],
      "metadata": {
        "id": "gbASKJmhV9Rh"
      },
      "execution_count": null,
      "outputs": []
    },
    {
      "cell_type": "markdown",
      "source": [
        "```\n",
        "data.loc[data['smoker'] == 'yes', 'smoker1'] = 1\n",
        "data.loc[data['smoker'] == 'no', 'smoker1'] = 0\n",
        "data\n",
        "```"
      ],
      "metadata": {
        "id": "_I4yIkacbvfN"
      }
    },
    {
      "cell_type": "code",
      "source": [
        "\n"
      ],
      "metadata": {
        "id": "Ns-BZpVtfLdX"
      },
      "execution_count": null,
      "outputs": []
    },
    {
      "cell_type": "markdown",
      "source": [
        "#bmi지수를 30보다 크면 비만으로 판단하여 0,1 로 저장\n",
        "```\n",
        "data=data.assign(biman=np.nan)\n",
        "data\n",
        "```"
      ],
      "metadata": {
        "id": "vFI5iy5-gWdV"
      }
    },
    {
      "cell_type": "code",
      "source": [],
      "metadata": {
        "id": "JABWx1SMgXDs"
      },
      "execution_count": null,
      "outputs": []
    },
    {
      "cell_type": "markdown",
      "source": [
        "```\n",
        "data.loc[data['bmi'] >=30, 'biman'] = 1\n",
        "data.loc[data['bmi'] <30, 'biman'] = 0\n",
        "data\n",
        "```"
      ],
      "metadata": {
        "id": "6iSyRyImb5KP"
      }
    },
    {
      "cell_type": "code",
      "source": [],
      "metadata": {
        "id": "FNqwSNc9gXAz"
      },
      "execution_count": null,
      "outputs": []
    },
    {
      "cell_type": "code",
      "source": [
        "data.info()"
      ],
      "metadata": {
        "id": "CTb_0z6NgukX"
      },
      "execution_count": null,
      "outputs": []
    },
    {
      "cell_type": "markdown",
      "source": [
        "#데이터 타입이 숫자가 아니라면 변경해 준다.\n",
        "```\n",
        "data = data.astype({'smoker1':'int'})\n",
        "data\n",
        "```"
      ],
      "metadata": {
        "id": "Fsut9BvbkC45"
      }
    },
    {
      "cell_type": "code",
      "source": [
        "\n"
      ],
      "metadata": {
        "id": "6EhW1uJrguni"
      },
      "execution_count": null,
      "outputs": []
    },
    {
      "cell_type": "code",
      "source": [
        "data.info()"
      ],
      "metadata": {
        "id": "t7jZ8-Moh3nX"
      },
      "execution_count": null,
      "outputs": []
    },
    {
      "cell_type": "markdown",
      "source": [
        "#속성 3개-나이, 흡연여부, 비만여부"
      ],
      "metadata": {
        "id": "sYmI7VE7lCfB"
      }
    },
    {
      "cell_type": "code",
      "source": [
        "# 핵심속성과 레이블 분리\n",
        "\n",
        "\n",
        "# 훈련 데이터, 테스트 데이터 분리\n",
        "\n",
        "\n",
        "# 선형회귀 모델 생성하고 학습시키기\n",
        "\n",
        "\n",
        "# 추세선 정보 확인하기\n"
      ],
      "metadata": {
        "id": "leWXv0zKh3q3"
      },
      "execution_count": null,
      "outputs": []
    },
    {
      "cell_type": "code",
      "source": [
        "#모델평가\n",
        "\n"
      ],
      "metadata": {
        "id": "ePny-lU6h3t1"
      },
      "execution_count": null,
      "outputs": []
    },
    {
      "cell_type": "markdown",
      "source": [
        "#속성 4개-나이, 부양가족, 흡연여부, 비만여부"
      ],
      "metadata": {
        "id": "xAL-FrLWkcN8"
      }
    },
    {
      "cell_type": "code",
      "source": [
        "# 핵심속성과 레이블 분리\n",
        "\n",
        "\n",
        "# 훈련 데이터, 테스트 데이터 분리\n",
        "\n",
        "\n",
        "# 선형회귀 모델 생성하고 학습시키기\n",
        "\n",
        "\n",
        "# 추세선 정보 확인하기\n"
      ],
      "metadata": {
        "id": "kt5zlxCeYMoa"
      },
      "execution_count": null,
      "outputs": []
    },
    {
      "cell_type": "code",
      "source": [
        "#모델평가\n",
        "\n"
      ],
      "metadata": {
        "id": "dZYugpbbkYH2"
      },
      "execution_count": null,
      "outputs": []
    }
  ]
}