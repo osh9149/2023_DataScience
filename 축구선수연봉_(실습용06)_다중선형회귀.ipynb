{
  "nbformat": 4,
  "nbformat_minor": 0,
  "metadata": {
    "colab": {
      "provenance": [],
      "include_colab_link": true
    },
    "kernelspec": {
      "name": "python3",
      "display_name": "Python 3"
    },
    "language_info": {
      "name": "python"
    }
  },
  "cells": [
    {
      "cell_type": "markdown",
      "metadata": {
        "id": "view-in-github",
        "colab_type": "text"
      },
      "source": [
        "<a href=\"https://colab.research.google.com/github/osh9149/2023_DataScience/blob/main/%EC%B6%95%EA%B5%AC%EC%84%A0%EC%88%98%EC%97%B0%EB%B4%89_(%EC%8B%A4%EC%8A%B5%EC%9A%A906)_%EB%8B%A4%EC%A4%91%EC%84%A0%ED%98%95%ED%9A%8C%EA%B7%80.ipynb\" target=\"_parent\"><img src=\"https://colab.research.google.com/assets/colab-badge.svg\" alt=\"Open In Colab\"/></a>"
      ]
    },
    {
      "cell_type": "markdown",
      "metadata": {
        "id": "dRDjLJ0p9OYM"
      },
      "source": [
        "# <6> 축구선수 데이터\n",
        "\n",
        "\"축구선수의 연봉은 뭉엇과 상관관계가 있을까?\"\n",
        "\n",
        "### 🚩 파일 다운로드 [>> 클릭]\n",
        "[출처 - kaggle](https://www.kaggle.com/datasets/stefanoleone992/fifa-20-complete-player-dataset)"
      ]
    },
    {
      "cell_type": "markdown",
      "metadata": {
        "id": "oS04FAjj-BIS"
      },
      "source": [
        "# 0. 한글폰트 설정\n",
        "\n",
        "\n",
        "1️⃣   한글 폰트 코드 실행\n",
        "```\n",
        "!sudo apt-get install -y fonts-nanum\n",
        "!sudo fc-cache -fv\n",
        "!rm ~/.cache/matplotlib -rf\n",
        "```\n"
      ]
    },
    {
      "cell_type": "code",
      "execution_count": 1,
      "metadata": {
        "id": "45tCIR9VIz8m"
      },
      "outputs": [],
      "source": [
        "# 한글 폰트 설정\n",
        "\n",
        "\n"
      ]
    },
    {
      "cell_type": "markdown",
      "metadata": {
        "id": "PD4Q_mQy9tdr"
      },
      "source": [
        "\n",
        "2️⃣ **런타임 - 런타임 다시시작**\n",
        "\n",
        "```\n",
        "import os\n",
        "os.kill(os.getpid(), 9)\n",
        "```"
      ]
    },
    {
      "cell_type": "code",
      "execution_count": 2,
      "metadata": {
        "id": "8CqpbXi69sO1"
      },
      "outputs": [],
      "source": [
        "#런타임 다시시작\n",
        "\n",
        "\n"
      ]
    },
    {
      "cell_type": "markdown",
      "metadata": {
        "id": "noNcGdXK-BIW"
      },
      "source": [
        "\n",
        "3️⃣  **글꼴 지정 명령어**\n",
        "```\n",
        "import matplotlib.pyplot as plt\n",
        "\n",
        "plt.rc('font', family='NanumBarunGothic')\n",
        "```"
      ]
    },
    {
      "cell_type": "code",
      "execution_count": 3,
      "metadata": {
        "id": "ZMGnzxetZgci"
      },
      "outputs": [],
      "source": [
        "# 폰트 지정\n",
        "\n"
      ]
    },
    {
      "cell_type": "markdown",
      "metadata": {
        "id": "u1CIfT-E8H0w"
      },
      "source": [
        "\n",
        "\n",
        "\n",
        "# 1. 파일 업로드\n",
        "\n",
        "```\n",
        "from google.colab import files\n",
        "uploaded = files.upload()\n",
        "```"
      ]
    },
    {
      "cell_type": "code",
      "execution_count": 4,
      "metadata": {
        "id": "xMe9NjEmuO2o"
      },
      "outputs": [],
      "source": [
        "#셀4-파일 업로드\n",
        "\n"
      ]
    },
    {
      "cell_type": "markdown",
      "metadata": {
        "id": "856yefHCuK2D"
      },
      "source": [
        "### csv 파일을 읽어서 DataFrame으로 변환하기\n",
        "\n",
        "```\n",
        "import pandas as pd\n",
        "\n",
        "data = pd.read_excel('파일 이름')\n",
        "data = pd.read_csv('파일 이름', encoding='cp949')\n",
        "```\n",
        "\n"
      ]
    },
    {
      "cell_type": "code",
      "execution_count": 5,
      "metadata": {
        "id": "n7-u9nREgdtn"
      },
      "outputs": [],
      "source": [
        "#csv 파일 읽기\n",
        "\n",
        "\n"
      ]
    },
    {
      "cell_type": "code",
      "execution_count": 6,
      "metadata": {
        "id": "VZc6yzL9_Nw8"
      },
      "outputs": [],
      "source": [
        "# 데이터의 기본정보 출력\n",
        "\n"
      ]
    },
    {
      "cell_type": "markdown",
      "source": [
        "```\n",
        "data[\"nationality\"].value_counts()\n",
        "```"
      ],
      "metadata": {
        "id": "e17K0JixtUbC"
      }
    },
    {
      "cell_type": "code",
      "source": [],
      "metadata": {
        "id": "eooL8Hc_JC5u"
      },
      "execution_count": 6,
      "outputs": []
    },
    {
      "cell_type": "markdown",
      "source": [
        "```\n",
        "data[\"nationality\"].value_counts()[0:10]\n",
        "```"
      ],
      "metadata": {
        "id": "6FYuGhoVtZSj"
      }
    },
    {
      "cell_type": "code",
      "source": [],
      "metadata": {
        "id": "UqGKPE4EJC9X"
      },
      "execution_count": 6,
      "outputs": []
    },
    {
      "cell_type": "markdown",
      "source": [
        "```\n",
        "data[\"nationality\"].value_counts()[0:5].keys()\n",
        "```"
      ],
      "metadata": {
        "id": "bD_ogAp1tb81"
      }
    },
    {
      "cell_type": "code",
      "source": [],
      "metadata": {
        "id": "5if_1GYWJDBF"
      },
      "execution_count": 6,
      "outputs": []
    },
    {
      "cell_type": "markdown",
      "source": [
        "```\n",
        "data[\"nationality\"].value_counts()[0:5]\n",
        "```"
      ],
      "metadata": {
        "id": "temG_LcNthcD"
      }
    },
    {
      "cell_type": "code",
      "source": [],
      "metadata": {
        "id": "u5-6qftxJDGa"
      },
      "execution_count": 6,
      "outputs": []
    },
    {
      "cell_type": "markdown",
      "source": [
        "```\n",
        "plt.figure(figsize=(10,5))\n",
        "plt.bar(list(data[\"nationality\"].value_counts()[0:5].keys()),list(data[\"nationality\"].value_counts()[0:5]),color=\"#10542F\")\n",
        "plt.show()\n",
        "```"
      ],
      "metadata": {
        "id": "5vrWpBYltkoD"
      }
    },
    {
      "cell_type": "code",
      "source": [],
      "metadata": {
        "id": "CuRSt682JDKM"
      },
      "execution_count": 6,
      "outputs": []
    },
    {
      "cell_type": "markdown",
      "source": [
        "```\n",
        "Psalary=data[[\"short_name\",\"wage_eur\"]]\n",
        "Psalary.head()\n",
        "```"
      ],
      "metadata": {
        "id": "1yZabKDjt6ai"
      }
    },
    {
      "cell_type": "code",
      "source": [],
      "metadata": {
        "id": "JD3d3NBvJDNB"
      },
      "execution_count": 6,
      "outputs": []
    },
    {
      "cell_type": "markdown",
      "source": [
        "```\n",
        "plt.figure(figsize=(10,5))\n",
        "plt.bar(list(data[\"short_name\"].value_counts()[0:5].keys()),list(data[\"wage_eur\"].value_counts()[0:5]),color=[\"#240076\",\"#007614\",\"#765D00\",\"#760500\",\"#4F0076\"])\n",
        "plt.show()\n",
        "```"
      ],
      "metadata": {
        "id": "ttJhmPSduGSb"
      }
    },
    {
      "cell_type": "code",
      "source": [],
      "metadata": {
        "id": "iT4zI1AEKEUA"
      },
      "execution_count": 6,
      "outputs": []
    },
    {
      "cell_type": "markdown",
      "source": [
        "```\n",
        "data[\"nationality\"]==\"Korea Republic\"\n",
        "```"
      ],
      "metadata": {
        "id": "gbi9DctPuXa7"
      }
    },
    {
      "cell_type": "code",
      "source": [],
      "metadata": {
        "id": "ZVHDvTb8KEXb"
      },
      "execution_count": 6,
      "outputs": []
    },
    {
      "cell_type": "markdown",
      "source": [
        "```\n",
        "korea=data[data[\"nationality\"]==\"Korea Republic\"]\n",
        "korea\n",
        "```"
      ],
      "metadata": {
        "id": "Heo7cZ6FuJrK"
      }
    },
    {
      "cell_type": "code",
      "source": [],
      "metadata": {
        "id": "nMEUTaZnKEbt"
      },
      "execution_count": 6,
      "outputs": []
    },
    {
      "cell_type": "markdown",
      "source": [
        "```\n",
        "korea.sort_values(by=[\"height_cm\"],ascending=False).head(10)\n",
        "```"
      ],
      "metadata": {
        "id": "A7OJ21isujeJ"
      }
    },
    {
      "cell_type": "code",
      "source": [],
      "metadata": {
        "id": "5RR2Nf-5KEfE"
      },
      "execution_count": 6,
      "outputs": []
    },
    {
      "cell_type": "markdown",
      "source": [
        "```\n",
        "korea.sort_values(by=[\"weight_kg\"],ascending=False).head(10)\n",
        "```"
      ],
      "metadata": {
        "id": "EQRMRxIounqY"
      }
    },
    {
      "cell_type": "code",
      "source": [],
      "metadata": {
        "id": "EBfhzrukKEiS"
      },
      "execution_count": 6,
      "outputs": []
    },
    {
      "cell_type": "markdown",
      "source": [
        "```\n",
        "korea.sort_values(by=[\"wage_eur\"],ascending=False).head(10)\n",
        "```"
      ],
      "metadata": {
        "id": "TgJi8PXOustV"
      }
    },
    {
      "cell_type": "code",
      "source": [],
      "metadata": {
        "id": "lY-v0fYcKEmb"
      },
      "execution_count": 6,
      "outputs": []
    },
    {
      "cell_type": "markdown",
      "source": [
        "```\n",
        "Juventus_V=data[data[\"club\"]==\"Juventus\"]\n",
        "```"
      ],
      "metadata": {
        "id": "pAc7IiFtu2fj"
      }
    },
    {
      "cell_type": "code",
      "source": [],
      "metadata": {
        "id": "fbACbMv8LP4S"
      },
      "execution_count": 6,
      "outputs": []
    },
    {
      "cell_type": "markdown",
      "source": [
        "```\n",
        "Juventus_V[[\"short_name\",\"wage_eur\"]].sort_values(by=[\"wage_eur\"],ascending=False).head()\n",
        "```"
      ],
      "metadata": {
        "id": "5S14rfaou5jx"
      }
    },
    {
      "cell_type": "code",
      "source": [],
      "metadata": {
        "id": "qNfXjVGNJDP6"
      },
      "execution_count": 6,
      "outputs": []
    },
    {
      "cell_type": "markdown",
      "source": [
        "#데이터에서 필요한 속성만 뽑아 새로운 데이터프레임(df_new)으로 만든다.\n",
        "```\n",
        "short_name = data[['short_name']]\n",
        "potential = data[['potential']]\n",
        "age = data[['age']]\n",
        "value_eur = data[['value_eur']]\n",
        "# wage_eur = data[['wage_eur']]\n",
        "pace = data[['pace']]\n",
        "shooting = data[['shooting']]\n",
        "passing = data[['passing']]\n",
        "dribbling = data[['dribbling']]\n",
        "defending = data[['defending']]\n",
        "international_reputation = data[['international_reputation']]\n",
        "\n",
        "df_new = pd.concat([short_name,potential,value_eur,pace,shooting,passing,defending, international_reputation], axis = 1).dropna()\n",
        "df_new.head()\n",
        "```"
      ],
      "metadata": {
        "id": "xF68u906u8t1"
      }
    },
    {
      "cell_type": "code",
      "source": [],
      "metadata": {
        "id": "ON6xjWMiCKhY"
      },
      "execution_count": 6,
      "outputs": []
    },
    {
      "cell_type": "markdown",
      "source": [
        "#속성 중 연봉(value_eur)이 맨 끝으로 오도록 순서를 바꿈\n",
        "```\n",
        "df_new = df_new[['short_name', 'potential','pace','shooting','passing','defending','international_reputation','value_eur']]\n",
        "df_new.head()\n",
        "```"
      ],
      "metadata": {
        "id": "-o9aGHdAvP5m"
      }
    },
    {
      "cell_type": "code",
      "source": [],
      "metadata": {
        "id": "_X83TihiDHAK"
      },
      "execution_count": 6,
      "outputs": []
    },
    {
      "cell_type": "code",
      "source": [
        "df_new.info()"
      ],
      "metadata": {
        "colab": {
          "base_uri": "https://localhost:8080/",
          "height": 184
        },
        "id": "3kPKj6QLCVyb",
        "outputId": "74e691d3-7eee-472e-f15e-be3532b67235"
      },
      "execution_count": 7,
      "outputs": [
        {
          "output_type": "error",
          "ename": "NameError",
          "evalue": "ignored",
          "traceback": [
            "\u001b[0;31m---------------------------------------------------------------------------\u001b[0m",
            "\u001b[0;31mNameError\u001b[0m                                 Traceback (most recent call last)",
            "\u001b[0;32m<ipython-input-7-c5addfb5f514>\u001b[0m in \u001b[0;36m<cell line: 1>\u001b[0;34m()\u001b[0m\n\u001b[0;32m----> 1\u001b[0;31m \u001b[0mdf_new\u001b[0m\u001b[0;34m.\u001b[0m\u001b[0minfo\u001b[0m\u001b[0;34m(\u001b[0m\u001b[0;34m)\u001b[0m\u001b[0;34m\u001b[0m\u001b[0;34m\u001b[0m\u001b[0m\n\u001b[0m",
            "\u001b[0;31mNameError\u001b[0m: name 'df_new' is not defined"
          ]
        }
      ]
    },
    {
      "cell_type": "markdown",
      "source": [
        "#데이터의 결측치 값 체크"
      ],
      "metadata": {
        "id": "A75m3usxcmol"
      }
    },
    {
      "cell_type": "code",
      "source": [
        "df_new.isnull().sum()"
      ],
      "metadata": {
        "id": "1Uf2CGNacln7"
      },
      "execution_count": null,
      "outputs": []
    },
    {
      "cell_type": "code",
      "source": [
        "df_new"
      ],
      "metadata": {
        "id": "dpoArQ6hpo8L"
      },
      "execution_count": null,
      "outputs": []
    },
    {
      "cell_type": "code",
      "source": [],
      "metadata": {
        "id": "bZWG9vFcC2-r"
      },
      "execution_count": null,
      "outputs": []
    },
    {
      "cell_type": "markdown",
      "source": [
        "#데이터 상관관계 분석"
      ],
      "metadata": {
        "id": "c2F0_ENzM3CN"
      }
    },
    {
      "cell_type": "code",
      "source": [
        "df_new.corr()"
      ],
      "metadata": {
        "id": "JqpP8ExJM3O8"
      },
      "execution_count": null,
      "outputs": []
    },
    {
      "cell_type": "code",
      "source": [
        "import seaborn as sns\n",
        "plt.figure(figsize=(10,10))\n",
        "sns.heatmap(df_new.corr(),cmap='BuPu', annot=True)\n",
        "plt.show()"
      ],
      "metadata": {
        "id": "n0P9Lx6Dt35R"
      },
      "execution_count": null,
      "outputs": []
    },
    {
      "cell_type": "markdown",
      "source": [
        "#모든 속성간의 상관관계를 그래프로 한번에 확인하기"
      ],
      "metadata": {
        "id": "3HfNbustNYhO"
      }
    },
    {
      "cell_type": "code",
      "source": [
        "import seaborn as sns\n",
        "sns.pairplot(df_new)\n",
        "plt.show()"
      ],
      "metadata": {
        "id": "L60tvSttNOgW"
      },
      "execution_count": null,
      "outputs": []
    },
    {
      "cell_type": "markdown",
      "source": [
        "#두개의 속성을 적용\n",
        "```\n",
        "from sklearn.linear_model import LinearRegression\n",
        "\n",
        "X = df_new[['potential', 'international_reputation']]\n",
        "y = df_new['value_eur']\n",
        "```"
      ],
      "metadata": {
        "id": "gBSVcC2Bv5G4"
      }
    },
    {
      "cell_type": "code",
      "source": [],
      "metadata": {
        "id": "TQlY2SZzDjdR"
      },
      "execution_count": null,
      "outputs": []
    },
    {
      "cell_type": "code",
      "source": [
        "X"
      ],
      "metadata": {
        "id": "jbGqjCpwDndm"
      },
      "execution_count": null,
      "outputs": []
    },
    {
      "cell_type": "code",
      "source": [
        "# %% fitting data\n",
        "multiple_linear_regression = LinearRegression()\n",
        "multiple_linear_regression.fit(X,y)\n",
        "\n",
        "print(multiple_linear_regression.coef_)\n",
        "print(multiple_linear_regression.intercept_)"
      ],
      "metadata": {
        "id": "R-vKSHrDOQTM"
      },
      "execution_count": null,
      "outputs": []
    },
    {
      "cell_type": "markdown",
      "source": [
        "#다중선형회귀 모델 분석"
      ],
      "metadata": {
        "id": "RmJHJsY1wdsN"
      }
    },
    {
      "cell_type": "markdown",
      "source": [
        "```\n",
        "# 훈련 데이터, 테스트 데이터 분리\n",
        "from sklearn.model_selection import train_test_split\n",
        "X_train, X_test, y_train, y_test=train_test_split(X,y, test_size=0.3, random_state=27)\n",
        "\n",
        "# 선형회귀 모델 생성하고 학습시키기\n",
        "lr2=LinearRegression()\n",
        "lr2.fit(X_train, y_train)\n",
        "\n",
        "# 추세선 정보 확인하기\n",
        "print(lr2.coef_, lr2.intercept_)\n",
        "```"
      ],
      "metadata": {
        "id": "hbTjDK8_wUP9"
      }
    },
    {
      "cell_type": "code",
      "source": [],
      "metadata": {
        "id": "nQyTGOReF6rH"
      },
      "execution_count": null,
      "outputs": []
    },
    {
      "cell_type": "markdown",
      "source": [
        "#모델평가하기\n",
        "```\n",
        "lr2.score(X_test, y_test)\n",
        "```"
      ],
      "metadata": {
        "id": "03xBpwA3wXHN"
      }
    },
    {
      "cell_type": "code",
      "source": [],
      "metadata": {
        "id": "l1yd3H_cF6xo"
      },
      "execution_count": null,
      "outputs": []
    },
    {
      "cell_type": "code",
      "source": [],
      "metadata": {
        "id": "Bd_I2qTKF60s"
      },
      "execution_count": null,
      "outputs": []
    },
    {
      "cell_type": "markdown",
      "metadata": {
        "id": "bUuZOEdBWnK5"
      },
      "source": [
        "#모델의 정확도를 높이기 위해 다른 속성도 적용을 해보자\n",
        "```\n",
        "X = df_new[['potential', 'international_reputation','passing']]\n",
        "y = df_new['value_eur']\n",
        "```"
      ]
    },
    {
      "cell_type": "code",
      "execution_count": null,
      "metadata": {
        "id": "8-oB7gIeT-09"
      },
      "outputs": [],
      "source": []
    },
    {
      "cell_type": "code",
      "source": [],
      "metadata": {
        "id": "7mzoPm-bHVRN"
      },
      "execution_count": null,
      "outputs": []
    },
    {
      "cell_type": "code",
      "source": [],
      "metadata": {
        "id": "rEJQyFtjHVUI"
      },
      "execution_count": null,
      "outputs": []
    },
    {
      "cell_type": "code",
      "source": [],
      "metadata": {
        "id": "kq_JArBrHVdD"
      },
      "execution_count": null,
      "outputs": []
    }
  ]
}