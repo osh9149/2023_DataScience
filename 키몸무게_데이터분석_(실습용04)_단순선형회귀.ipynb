{
  "nbformat": 4,
  "nbformat_minor": 0,
  "metadata": {
    "colab": {
      "provenance": [],
      "include_colab_link": true
    },
    "kernelspec": {
      "name": "python3",
      "display_name": "Python 3"
    },
    "language_info": {
      "name": "python"
    }
  },
  "cells": [
    {
      "cell_type": "markdown",
      "metadata": {
        "id": "view-in-github",
        "colab_type": "text"
      },
      "source": [
        "<a href=\"https://colab.research.google.com/github/osh9149/2023_DataScience/blob/main/%ED%82%A4%EB%AA%B8%EB%AC%B4%EA%B2%8C_%EB%8D%B0%EC%9D%B4%ED%84%B0%EB%B6%84%EC%84%9D_(%EC%8B%A4%EC%8A%B5%EC%9A%A904)_%EB%8B%A8%EC%88%9C%EC%84%A0%ED%98%95%ED%9A%8C%EA%B7%80.ipynb\" target=\"_parent\"><img src=\"https://colab.research.google.com/assets/colab-badge.svg\" alt=\"Open In Colab\"/></a>"
      ]
    },
    {
      "cell_type": "markdown",
      "metadata": {
        "id": "dRDjLJ0p9OYM"
      },
      "source": [
        "# <3> 키-몸무게 데이터\n",
        "\n",
        "\"키와 몸무게는 어떤 상관관계가 있을까?\"\n",
        "\n",
        "### 🚩 파일 다운로드 [>> 클릭]\n",
        "[출처 - 공공데이터포털](https://www.data.go.kr/data/15051017/fileData.do)"
      ]
    },
    {
      "cell_type": "markdown",
      "metadata": {
        "id": "oS04FAjj-BIS"
      },
      "source": [
        "# 0. 한글폰트 설정\n",
        "\n",
        "\n",
        "1️⃣   한글 폰트 코드 실행\n",
        "```\n",
        "!sudo apt-get install -y fonts-nanum\n",
        "!sudo fc-cache -fv\n",
        "!rm ~/.cache/matplotlib -rf\n",
        "```\n"
      ]
    },
    {
      "cell_type": "code",
      "execution_count": 1,
      "metadata": {
        "id": "45tCIR9VIz8m"
      },
      "outputs": [],
      "source": [
        "# 셀1- 한글 폰트 설정\n",
        "\n",
        "\n"
      ]
    },
    {
      "cell_type": "markdown",
      "metadata": {
        "id": "PD4Q_mQy9tdr"
      },
      "source": [
        "\n",
        "2️⃣ **런타임 - 런타임 다시시작**\n",
        "\n",
        "```\n",
        "import os\n",
        "os.kill(os.getpid(), 9)\n",
        "```"
      ]
    },
    {
      "cell_type": "code",
      "execution_count": 2,
      "metadata": {
        "id": "8CqpbXi69sO1"
      },
      "outputs": [],
      "source": [
        "# 셀2-런타임 다시시작\n",
        "\n",
        "\n"
      ]
    },
    {
      "cell_type": "markdown",
      "metadata": {
        "id": "noNcGdXK-BIW"
      },
      "source": [
        "\n",
        "3️⃣  **글꼴 지정 명령어**\n",
        "```\n",
        "import matplotlib.pyplot as plt\n",
        "\n",
        "plt.rc('font', family='NanumBarunGothic')\n",
        "```"
      ]
    },
    {
      "cell_type": "code",
      "execution_count": 3,
      "metadata": {
        "id": "ZMGnzxetZgci"
      },
      "outputs": [],
      "source": [
        "# 셀3-폰트 지정\n",
        "\n"
      ]
    },
    {
      "cell_type": "markdown",
      "metadata": {
        "id": "u1CIfT-E8H0w"
      },
      "source": [
        "\n",
        "\n",
        "\n",
        "# 1. 파일 업로드\n",
        "\n",
        "```\n",
        "from google.colab import files\n",
        "uploaded = files.upload()\n",
        "```"
      ]
    },
    {
      "cell_type": "code",
      "execution_count": 4,
      "metadata": {
        "id": "xMe9NjEmuO2o"
      },
      "outputs": [],
      "source": [
        "#셀4-파일 업로드\n",
        "\n"
      ]
    },
    {
      "cell_type": "markdown",
      "metadata": {
        "id": "856yefHCuK2D"
      },
      "source": [
        "### csv 파일을 읽어서 DataFrame으로 변환하기\n",
        "\n",
        "```\n",
        "import pandas as pd\n",
        "\n",
        "data = pd.read_excel('파일 이름')\n",
        "data = pd.read_csv('파일 이름', encoding='cp949')\n",
        "```\n",
        "\n"
      ]
    },
    {
      "cell_type": "code",
      "execution_count": 5,
      "metadata": {
        "id": "n7-u9nREgdtn"
      },
      "outputs": [],
      "source": [
        "#셀5=-csv 파일 읽기\n",
        "\n",
        "\n"
      ]
    },
    {
      "cell_type": "code",
      "execution_count": 6,
      "metadata": {
        "id": "VZc6yzL9_Nw8"
      },
      "outputs": [],
      "source": [
        "# 데이터의 기본정보 출력\n",
        "\n",
        "\n",
        "\n",
        "\n"
      ]
    },
    {
      "cell_type": "markdown",
      "metadata": {
        "id": "eRbIj6OSytuV"
      },
      "source": [
        "#### 데이터 기본정보 파악하기  \n",
        "```\n",
        "data.info\n",
        "```"
      ]
    },
    {
      "cell_type": "code",
      "execution_count": 6,
      "metadata": {
        "id": "M3tJXJ8nAzmL"
      },
      "outputs": [],
      "source": [
        "\n"
      ]
    },
    {
      "cell_type": "markdown",
      "metadata": {
        "id": "TYv20-ITUzm7"
      },
      "source": [
        "#### Q. 데이터 기초 통계 함수로 확인\n",
        "```\n",
        "data.describe()\n",
        "```"
      ]
    },
    {
      "cell_type": "code",
      "execution_count": 6,
      "metadata": {
        "id": "Q9Zbrwryyt1U"
      },
      "outputs": [],
      "source": []
    },
    {
      "cell_type": "markdown",
      "metadata": {
        "id": "bUuZOEdBWnK5"
      },
      "source": [
        "## ❓ 키와 몸무게데이터만 추출해서 새로운 데이터프레임(data1)으로 만든다.\n",
        "```\n",
        "data1=data[['키','몸무게']]\n",
        "data1\n",
        "```"
      ]
    },
    {
      "cell_type": "code",
      "execution_count": 6,
      "metadata": {
        "id": "8-oB7gIeT-09"
      },
      "outputs": [],
      "source": []
    },
    {
      "cell_type": "code",
      "source": [],
      "metadata": {
        "id": "gbASKJmhV9Rh"
      },
      "execution_count": 6,
      "outputs": []
    },
    {
      "cell_type": "markdown",
      "source": [
        "#결측치 데이터가 있는지 확인한다."
      ],
      "metadata": {
        "id": "Vznxz1Loo9GD"
      }
    },
    {
      "cell_type": "markdown",
      "source": [
        "```\n",
        "data1.isnull()\n",
        "```"
      ],
      "metadata": {
        "id": "wCW-kP10p0Ms"
      }
    },
    {
      "cell_type": "code",
      "source": [],
      "metadata": {
        "id": "Dax4ReWYVuSz"
      },
      "execution_count": 6,
      "outputs": []
    },
    {
      "cell_type": "markdown",
      "source": [
        "```\n",
        "data1[data1['키'].isnull()]\n",
        "```"
      ],
      "metadata": {
        "id": "76FFUnshp331"
      }
    },
    {
      "cell_type": "code",
      "source": [],
      "metadata": {
        "id": "9xLxq4kbWJhj"
      },
      "execution_count": 6,
      "outputs": []
    },
    {
      "cell_type": "code",
      "source": [],
      "metadata": {
        "id": "lzXdqWXIWOfr"
      },
      "execution_count": 6,
      "outputs": []
    },
    {
      "cell_type": "markdown",
      "source": [
        "#Nan이란 Not a number의 약자로 0/0처럼 수학적으로 정의가 되지 않는 값\n",
        "# 결측치(Nan)가 하나라도 있는 행을 제거\n",
        "데이터프레임.dropna(axis='rows')\n",
        "\n",
        "# 결측치(Nan)가 하나라도 있는 열을 제거\n",
        "데이터프레임.dropna(axis='columns')"
      ],
      "metadata": {
        "id": "Ow3nuLd5VDTx"
      }
    },
    {
      "cell_type": "code",
      "source": [
        "#결측치가 있는 행을 제거\n"
      ],
      "metadata": {
        "id": "32s6FahuU6Au"
      },
      "execution_count": 7,
      "outputs": []
    },
    {
      "cell_type": "markdown",
      "source": [
        "```\n",
        "data1[data1['몸무게'].isnull()]\n",
        "```"
      ],
      "metadata": {
        "id": "iiwBY7SScd45"
      }
    },
    {
      "cell_type": "code",
      "source": [
        "#데이터 프레임에 결측치가 없는 지 확인\n"
      ],
      "metadata": {
        "id": "NLHcIvnNWVPh"
      },
      "execution_count": 8,
      "outputs": []
    },
    {
      "cell_type": "markdown",
      "source": [
        "```\n",
        "import seaborn as sns\n",
        "sns.jointplot(x='키', y='몸무게', data=data1)\n",
        "plt.show()\n",
        "```"
      ],
      "metadata": {
        "id": "xegga-d8ciNc"
      }
    },
    {
      "cell_type": "code",
      "source": [
        "#키와 몸무게로 그래프를 그림\n",
        "\n"
      ],
      "metadata": {
        "id": "Roc_AN87CdkU"
      },
      "execution_count": 9,
      "outputs": []
    },
    {
      "cell_type": "markdown",
      "source": [
        "#데이터의 상관관계를 알아봄\n",
        "```\n",
        "data.corr()\n",
        "```"
      ],
      "metadata": {
        "id": "OsffioADctN7"
      }
    },
    {
      "cell_type": "code",
      "source": [],
      "metadata": {
        "id": "yfzDW1zCTTTv"
      },
      "execution_count": 9,
      "outputs": []
    },
    {
      "cell_type": "markdown",
      "source": [
        "```\n",
        "X=data1[['키']]\n",
        "y=data1['몸무게']\n",
        "```"
      ],
      "metadata": {
        "id": "2sWQjqtSc2Od"
      }
    },
    {
      "cell_type": "code",
      "source": [
        "# 머신러닝 알고리즘에 학습시킬 속성은 이차원 형태여야 함\n",
        "\n"
      ],
      "metadata": {
        "id": "EdzgC1kFTTWg"
      },
      "execution_count": 10,
      "outputs": []
    },
    {
      "cell_type": "markdown",
      "source": [
        "#훈련 데이터, 테스트 데이터 분리\n",
        "```\n",
        "from sklearn.model_selection import train_test_split\n",
        "\n",
        "X_train, X_test, y_train, y_test=train_test_split(X,y, test_size=0.3, random_state=27)\n",
        "```"
      ],
      "metadata": {
        "id": "LMfijSXTdBS5"
      }
    },
    {
      "cell_type": "code",
      "source": [],
      "metadata": {
        "id": "8Q1cimdsTTZZ"
      },
      "execution_count": 10,
      "outputs": []
    },
    {
      "cell_type": "markdown",
      "source": [
        "#훈련데이터, 테스트데이터 출력\n",
        "```\n",
        "X_train\n",
        "X_test\n",
        "y_train\n",
        "y_test\n",
        "```"
      ],
      "metadata": {
        "id": "bWWFU884dNxp"
      }
    },
    {
      "cell_type": "code",
      "source": [],
      "metadata": {
        "id": "VtjA0cY4TTiM"
      },
      "execution_count": 10,
      "outputs": []
    },
    {
      "cell_type": "code",
      "source": [],
      "metadata": {
        "id": "wMrtgPvgdhes"
      },
      "execution_count": 10,
      "outputs": []
    },
    {
      "cell_type": "code",
      "source": [],
      "metadata": {
        "id": "Dj419WVsdhh0"
      },
      "execution_count": 10,
      "outputs": []
    },
    {
      "cell_type": "code",
      "source": [],
      "metadata": {
        "id": "1o9kISjQUq1N"
      },
      "execution_count": 10,
      "outputs": []
    },
    {
      "cell_type": "markdown",
      "source": [
        "#선형 회귀 모델 생성\n",
        "```\n",
        "from sklearn.linear_model import LinearRegression\n",
        "\n",
        "my_lig=LinearRegression()\n",
        "```"
      ],
      "metadata": {
        "id": "XURJdB-BdiaN"
      }
    },
    {
      "cell_type": "code",
      "source": [],
      "metadata": {
        "id": "FImYdc73Uq4F"
      },
      "execution_count": 10,
      "outputs": []
    },
    {
      "cell_type": "markdown",
      "source": [
        "#선형 회귀 모델 학습시키기\n",
        "```\n",
        "my_lig.fit(X_train, y_train)\n",
        "```"
      ],
      "metadata": {
        "id": "ZC10ysA_dpD0"
      }
    },
    {
      "cell_type": "code",
      "source": [],
      "metadata": {
        "id": "fdVyxVoPUq7E"
      },
      "execution_count": 10,
      "outputs": []
    },
    {
      "cell_type": "markdown",
      "source": [
        "#학습 결과(추세선) 확인하기\n",
        "```\n",
        "기울기 : 모델이름.coef_\n",
        "y절편 : 모델이름.intercept_\n",
        "```"
      ],
      "metadata": {
        "id": "gSO43eVpd2nv"
      }
    },
    {
      "cell_type": "code",
      "source": [],
      "metadata": {
        "id": "-NAf7YSkUq-W"
      },
      "execution_count": 10,
      "outputs": []
    },
    {
      "cell_type": "markdown",
      "source": [
        "#작성한 모델로 예측 해보기\n",
        "```\n",
        "my_lig.predict([[160]])\n",
        "```"
      ],
      "metadata": {
        "id": "Qo1Sr_gkd-MR"
      }
    },
    {
      "cell_type": "code",
      "source": [],
      "metadata": {
        "id": "dKtpyNCSeUQ6"
      },
      "execution_count": 10,
      "outputs": []
    },
    {
      "cell_type": "markdown",
      "source": [
        "#키를 입력받아 몸무게를 예측해보기"
      ],
      "metadata": {
        "id": "_Roj3TgbqFpE"
      }
    },
    {
      "cell_type": "code",
      "source": [],
      "metadata": {
        "id": "UhWWiJwoqF1T"
      },
      "execution_count": null,
      "outputs": []
    },
    {
      "cell_type": "markdown",
      "source": [
        "#선형회귀 모델 평가하기\n",
        "```\n",
        "y_pred=my_lig.predict(X_test)\n",
        "```"
      ],
      "metadata": {
        "id": "eh5cMfdEeX5w"
      }
    },
    {
      "cell_type": "code",
      "source": [
        "# 전체 테스트데이터의 예측값을 y_pred에 저장하기\n"
      ],
      "metadata": {
        "id": "UaIfNxx4UrDd"
      },
      "execution_count": 11,
      "outputs": []
    },
    {
      "cell_type": "markdown",
      "source": [
        "```\n",
        "# 테스트 데이터의 실제값 : 파란색 산점도\n",
        "plt.plot(X_test, y_test, 'bo')\n",
        "\n",
        "# 테스트 데이터의 예측값 : 빨간색 선 그래프\n",
        "plt.plot(X_test, y_pred,'r')\n",
        "\n",
        "plt.xlabel('키')\n",
        "plt.ylabel('몸무게')\n",
        "plt.legend()\n",
        "plt.show()\n",
        "```"
      ],
      "metadata": {
        "id": "0fOZyfxMefhX"
      }
    },
    {
      "cell_type": "code",
      "source": [
        "# 테스트 데이터의 실제값 : 파란색 산점도\n",
        "\n",
        "\n",
        "# 테스트 데이터의 예측값 : 빨간색 선 그래프\n",
        "\n",
        "\n"
      ],
      "metadata": {
        "id": "LW5F046EUrGF"
      },
      "execution_count": 12,
      "outputs": []
    },
    {
      "cell_type": "markdown",
      "source": [
        "#모델 평가하기\n",
        "```\n",
        "my_lig.score(X_test, y_test)\n",
        "```"
      ],
      "metadata": {
        "id": "XYAqhpz3eliz"
      }
    },
    {
      "cell_type": "code",
      "source": [],
      "metadata": {
        "id": "kt5zlxCeYMoa"
      },
      "execution_count": 12,
      "outputs": []
    }
  ]
}